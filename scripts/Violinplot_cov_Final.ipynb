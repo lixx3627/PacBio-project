{
 "cells": [
  {
   "cell_type": "code",
   "execution_count": null,
   "metadata": {
    "collapsed": true
   },
   "outputs": [],
   "source": [
    "# This script to plot coverage: takes the summary file (csv) that contains the coverage in 1000 bp windows of high strigency mapping using Illumina reads"
   ]
  },
  {
   "cell_type": "code",
   "execution_count": 2,
   "metadata": {
    "collapsed": false
   },
   "outputs": [
    {
     "name": "stdout",
     "output_type": "stream",
     "text": [
      "env: PATH=/home/figueroa/lixx3627/.conda/envs/ben_anu/bin:/panfs/roc/msisoft/python3/3.4-conda/bin:/usr/local/bin:/usr/local/sbin:/usr/share/Modules/bin:/opt/moab/bin:/opt/rh/python33/root/usr/bin:/sbin:/usr/sbin:/bin:/usr/bin:/usr/local/bin:/usr/local/sbin:/opt/msi/bin:/opt/puppetlabs/bin:/home/figueroa/lixx3627/src/bioawk:/home/figueroa/lixx3627/src/seqtk/seqtk/\n"
     ]
    }
   ],
   "source": [
    "set_env PATH=/home/figueroa/lixx3627/.conda/envs/ben_anu/bin:/panfs/roc/msisoft/python3/3.4-conda/bin:/usr/local/bin:/usr/local/sbin:/usr/share/Modules/bin:/opt/moab/bin:/opt/rh/python33/root/usr/bin:/sbin:/usr/sbin:/bin:/usr/bin:/usr/local/bin:/usr/local/sbin:/opt/msi/bin:/opt/puppetlabs/bin:/home/figueroa/lixx3627/src/bioawk:/home/figueroa/lixx3627/src/seqtk/seqtk/"
   ]
  },
  {
   "cell_type": "code",
   "execution_count": 2,
   "metadata": {
    "collapsed": true
   },
   "outputs": [],
   "source": [
    "%matplotlib inline"
   ]
  },
  {
   "cell_type": "code",
   "execution_count": 3,
   "metadata": {
    "collapsed": false
   },
   "outputs": [
    {
     "name": "stderr",
     "output_type": "stream",
     "text": [
      "/home/figueroa/lixx3627/.conda/envs/ben_anu/lib/python3.6/importlib/_bootstrap.py:219: RuntimeWarning: numpy.dtype size changed, may indicate binary incompatibility. Expected 96, got 88\n",
      "  return f(*args, **kwds)\n",
      "/home/figueroa/lixx3627/.conda/envs/ben_anu/lib/python3.6/importlib/_bootstrap.py:219: RuntimeWarning: numpy.dtype size changed, may indicate binary incompatibility. Expected 96, got 88\n",
      "  return f(*args, **kwds)\n"
     ]
    }
   ],
   "source": [
    "import pandas as pd\n",
    "import seaborn as sns\n",
    "import matplotlib.pyplot as plt\n",
    "import os\n",
    "from matplotlib.lines import Line2D"
   ]
  },
  {
   "cell_type": "code",
   "execution_count": 4,
   "metadata": {
    "collapsed": true
   },
   "outputs": [],
   "source": [
    "# Define file paths: takes the summary file (csv, including haplotype info for each contig) that contains the coverage in 1000 bp windows of high strigency mapping using Illumina reads\n",
    "Pgt99_99_fn = os.path.abspath('./PgtUg99ref_rn_with_Ug99reads_df.csv')\n",
    "Pgt99_210_fn = os.path.abspath('./PgtUg99ref_rn_with_210reads_df.csv')\n",
    "Pgt210_99_fn = os.path.abspath('./Pgt210ref_rn_with_ug99reads_df.csv')\n",
    "Pgt210_210_fn = os.path.abspath('./Pgt210ref_rn_with_210reads_df.csv')\n"
   ]
  },
  {
   "cell_type": "code",
   "execution_count": 5,
   "metadata": {
    "collapsed": false
   },
   "outputs": [],
   "source": [
    "# read these summary files\n",
    "Pgt99_99_df = pd.read_csv(Pgt99_99_fn, index_col =0)\n",
    "Pgt99_210_df = pd.read_csv(Pgt99_210_fn, index_col= 0)\n",
    "Pgt210_99_df = pd.read_csv(Pgt210_99_fn, index_col =0)\n",
    "Pgt210_210_df = pd.read_csv(Pgt210_210_fn, index_col= 0)\n"
   ]
  },
  {
   "cell_type": "code",
   "execution_count": 6,
   "metadata": {
    "collapsed": false
   },
   "outputs": [
    {
     "data": {
      "text/html": [
       "<div>\n",
       "<style scoped>\n",
       "    .dataframe tbody tr th:only-of-type {\n",
       "        vertical-align: middle;\n",
       "    }\n",
       "\n",
       "    .dataframe tbody tr th {\n",
       "        vertical-align: top;\n",
       "    }\n",
       "\n",
       "    .dataframe thead th {\n",
       "        text-align: right;\n",
       "    }\n",
       "</style>\n",
       "<table border=\"1\" class=\"dataframe\">\n",
       "  <thead>\n",
       "    <tr style=\"text-align: right;\">\n",
       "      <th></th>\n",
       "      <th>contig</th>\n",
       "      <th>start</th>\n",
       "      <th>stop</th>\n",
       "      <th>cov</th>\n",
       "      <th>cov_per_base</th>\n",
       "      <th>karyon_assign</th>\n",
       "      <th>norm_cov_by_mean</th>\n",
       "      <th>norm_cov_by_mean_of_karyon</th>\n",
       "    </tr>\n",
       "  </thead>\n",
       "  <tbody>\n",
       "    <tr>\n",
       "      <th>0</th>\n",
       "      <td>Ug99V2_tig00000005</td>\n",
       "      <td>0</td>\n",
       "      <td>1000</td>\n",
       "      <td>1484</td>\n",
       "      <td>1.484</td>\n",
       "      <td>C</td>\n",
       "      <td>0.053087</td>\n",
       "      <td>0.052975</td>\n",
       "    </tr>\n",
       "    <tr>\n",
       "      <th>1</th>\n",
       "      <td>Ug99V2_tig00000005</td>\n",
       "      <td>1000</td>\n",
       "      <td>2000</td>\n",
       "      <td>1328</td>\n",
       "      <td>1.328</td>\n",
       "      <td>C</td>\n",
       "      <td>0.047506</td>\n",
       "      <td>0.047406</td>\n",
       "    </tr>\n",
       "    <tr>\n",
       "      <th>2</th>\n",
       "      <td>Ug99V2_tig00000005</td>\n",
       "      <td>2000</td>\n",
       "      <td>3000</td>\n",
       "      <td>8206</td>\n",
       "      <td>8.206</td>\n",
       "      <td>C</td>\n",
       "      <td>0.293552</td>\n",
       "      <td>0.292932</td>\n",
       "    </tr>\n",
       "    <tr>\n",
       "      <th>3</th>\n",
       "      <td>Ug99V2_tig00000005</td>\n",
       "      <td>3000</td>\n",
       "      <td>4000</td>\n",
       "      <td>12668</td>\n",
       "      <td>12.668</td>\n",
       "      <td>C</td>\n",
       "      <td>0.453171</td>\n",
       "      <td>0.452213</td>\n",
       "    </tr>\n",
       "    <tr>\n",
       "      <th>4</th>\n",
       "      <td>Ug99V2_tig00000005</td>\n",
       "      <td>4000</td>\n",
       "      <td>5000</td>\n",
       "      <td>11619</td>\n",
       "      <td>11.619</td>\n",
       "      <td>C</td>\n",
       "      <td>0.415645</td>\n",
       "      <td>0.414767</td>\n",
       "    </tr>\n",
       "  </tbody>\n",
       "</table>\n",
       "</div>"
      ],
      "text/plain": [
       "               contig  start  stop    cov  cov_per_base karyon_assign  \\\n",
       "0  Ug99V2_tig00000005      0  1000   1484         1.484             C   \n",
       "1  Ug99V2_tig00000005   1000  2000   1328         1.328             C   \n",
       "2  Ug99V2_tig00000005   2000  3000   8206         8.206             C   \n",
       "3  Ug99V2_tig00000005   3000  4000  12668        12.668             C   \n",
       "4  Ug99V2_tig00000005   4000  5000  11619        11.619             C   \n",
       "\n",
       "   norm_cov_by_mean  norm_cov_by_mean_of_karyon  \n",
       "0          0.053087                    0.052975  \n",
       "1          0.047506                    0.047406  \n",
       "2          0.293552                    0.292932  \n",
       "3          0.453171                    0.452213  \n",
       "4          0.415645                    0.414767  "
      ]
     },
     "execution_count": 6,
     "metadata": {},
     "output_type": "execute_result"
    }
   ],
   "source": [
    "Pgt99_99_df.head()"
   ]
  },
  {
   "cell_type": "code",
   "execution_count": 7,
   "metadata": {
    "collapsed": true
   },
   "outputs": [],
   "source": [
    "new_column_name_99 = list(Pgt99_99_df.columns[0:3]) + [x +'_99_on_99' for x in Pgt99_99_df.columns[3:]  ]"
   ]
  },
  {
   "cell_type": "code",
   "execution_count": 8,
   "metadata": {
    "collapsed": true
   },
   "outputs": [],
   "source": [
    "Pgt99_99_df.rename(columns=dict(zip(Pgt99_99_df.columns, new_column_name_99)), inplace=True)"
   ]
  },
  {
   "cell_type": "code",
   "execution_count": 9,
   "metadata": {
    "collapsed": false
   },
   "outputs": [
    {
     "data": {
      "text/html": [
       "<div>\n",
       "<style scoped>\n",
       "    .dataframe tbody tr th:only-of-type {\n",
       "        vertical-align: middle;\n",
       "    }\n",
       "\n",
       "    .dataframe tbody tr th {\n",
       "        vertical-align: top;\n",
       "    }\n",
       "\n",
       "    .dataframe thead th {\n",
       "        text-align: right;\n",
       "    }\n",
       "</style>\n",
       "<table border=\"1\" class=\"dataframe\">\n",
       "  <thead>\n",
       "    <tr style=\"text-align: right;\">\n",
       "      <th></th>\n",
       "      <th>contig</th>\n",
       "      <th>start</th>\n",
       "      <th>stop</th>\n",
       "      <th>cov_99_on_99</th>\n",
       "      <th>cov_per_base_99_on_99</th>\n",
       "      <th>karyon_assign_99_on_99</th>\n",
       "      <th>norm_cov_by_mean_99_on_99</th>\n",
       "      <th>norm_cov_by_mean_of_karyon_99_on_99</th>\n",
       "    </tr>\n",
       "  </thead>\n",
       "  <tbody>\n",
       "    <tr>\n",
       "      <th>0</th>\n",
       "      <td>Ug99V2_tig00000005</td>\n",
       "      <td>0</td>\n",
       "      <td>1000</td>\n",
       "      <td>1484</td>\n",
       "      <td>1.484</td>\n",
       "      <td>C</td>\n",
       "      <td>0.053087</td>\n",
       "      <td>0.052975</td>\n",
       "    </tr>\n",
       "    <tr>\n",
       "      <th>1</th>\n",
       "      <td>Ug99V2_tig00000005</td>\n",
       "      <td>1000</td>\n",
       "      <td>2000</td>\n",
       "      <td>1328</td>\n",
       "      <td>1.328</td>\n",
       "      <td>C</td>\n",
       "      <td>0.047506</td>\n",
       "      <td>0.047406</td>\n",
       "    </tr>\n",
       "    <tr>\n",
       "      <th>2</th>\n",
       "      <td>Ug99V2_tig00000005</td>\n",
       "      <td>2000</td>\n",
       "      <td>3000</td>\n",
       "      <td>8206</td>\n",
       "      <td>8.206</td>\n",
       "      <td>C</td>\n",
       "      <td>0.293552</td>\n",
       "      <td>0.292932</td>\n",
       "    </tr>\n",
       "    <tr>\n",
       "      <th>3</th>\n",
       "      <td>Ug99V2_tig00000005</td>\n",
       "      <td>3000</td>\n",
       "      <td>4000</td>\n",
       "      <td>12668</td>\n",
       "      <td>12.668</td>\n",
       "      <td>C</td>\n",
       "      <td>0.453171</td>\n",
       "      <td>0.452213</td>\n",
       "    </tr>\n",
       "    <tr>\n",
       "      <th>4</th>\n",
       "      <td>Ug99V2_tig00000005</td>\n",
       "      <td>4000</td>\n",
       "      <td>5000</td>\n",
       "      <td>11619</td>\n",
       "      <td>11.619</td>\n",
       "      <td>C</td>\n",
       "      <td>0.415645</td>\n",
       "      <td>0.414767</td>\n",
       "    </tr>\n",
       "  </tbody>\n",
       "</table>\n",
       "</div>"
      ],
      "text/plain": [
       "               contig  start  stop  cov_99_on_99  cov_per_base_99_on_99  \\\n",
       "0  Ug99V2_tig00000005      0  1000          1484                  1.484   \n",
       "1  Ug99V2_tig00000005   1000  2000          1328                  1.328   \n",
       "2  Ug99V2_tig00000005   2000  3000          8206                  8.206   \n",
       "3  Ug99V2_tig00000005   3000  4000         12668                 12.668   \n",
       "4  Ug99V2_tig00000005   4000  5000         11619                 11.619   \n",
       "\n",
       "  karyon_assign_99_on_99  norm_cov_by_mean_99_on_99  \\\n",
       "0                      C                   0.053087   \n",
       "1                      C                   0.047506   \n",
       "2                      C                   0.293552   \n",
       "3                      C                   0.453171   \n",
       "4                      C                   0.415645   \n",
       "\n",
       "   norm_cov_by_mean_of_karyon_99_on_99  \n",
       "0                             0.052975  \n",
       "1                             0.047406  \n",
       "2                             0.292932  \n",
       "3                             0.452213  \n",
       "4                             0.414767  "
      ]
     },
     "execution_count": 9,
     "metadata": {},
     "output_type": "execute_result"
    }
   ],
   "source": [
    "Pgt99_99_df.head()"
   ]
  },
  {
   "cell_type": "code",
   "execution_count": 10,
   "metadata": {
    "collapsed": true
   },
   "outputs": [],
   "source": [
    "new_column_name_210 = list(Pgt99_210_df.columns[0:3]) + [x +'_210_on_99' for x in Pgt99_210_df.columns[3:]  ]"
   ]
  },
  {
   "cell_type": "code",
   "execution_count": 11,
   "metadata": {
    "collapsed": true
   },
   "outputs": [],
   "source": [
    "Pgt99_210_df.rename(columns=dict(zip(Pgt99_210_df.columns, new_column_name_210)), inplace = True)"
   ]
  },
  {
   "cell_type": "code",
   "execution_count": 12,
   "metadata": {
    "collapsed": false,
    "scrolled": false
   },
   "outputs": [
    {
     "data": {
      "text/html": [
       "<div>\n",
       "<style scoped>\n",
       "    .dataframe tbody tr th:only-of-type {\n",
       "        vertical-align: middle;\n",
       "    }\n",
       "\n",
       "    .dataframe tbody tr th {\n",
       "        vertical-align: top;\n",
       "    }\n",
       "\n",
       "    .dataframe thead th {\n",
       "        text-align: right;\n",
       "    }\n",
       "</style>\n",
       "<table border=\"1\" class=\"dataframe\">\n",
       "  <thead>\n",
       "    <tr style=\"text-align: right;\">\n",
       "      <th></th>\n",
       "      <th>contig</th>\n",
       "      <th>start</th>\n",
       "      <th>stop</th>\n",
       "      <th>cov_210_on_99</th>\n",
       "      <th>cov_per_base_210_on_99</th>\n",
       "      <th>karyon_assign_210_on_99</th>\n",
       "      <th>norm_cov_by_mean_210_on_99</th>\n",
       "      <th>norm_cov_by_mean_of_karyon_210_on_99</th>\n",
       "    </tr>\n",
       "  </thead>\n",
       "  <tbody>\n",
       "    <tr>\n",
       "      <th>0</th>\n",
       "      <td>Ug99V2_tig00000005</td>\n",
       "      <td>0</td>\n",
       "      <td>1000</td>\n",
       "      <td>0</td>\n",
       "      <td>0.0</td>\n",
       "      <td>C</td>\n",
       "      <td>0.0</td>\n",
       "      <td>0.0</td>\n",
       "    </tr>\n",
       "    <tr>\n",
       "      <th>1</th>\n",
       "      <td>Ug99V2_tig00000005</td>\n",
       "      <td>1000</td>\n",
       "      <td>2000</td>\n",
       "      <td>0</td>\n",
       "      <td>0.0</td>\n",
       "      <td>C</td>\n",
       "      <td>0.0</td>\n",
       "      <td>0.0</td>\n",
       "    </tr>\n",
       "    <tr>\n",
       "      <th>2</th>\n",
       "      <td>Ug99V2_tig00000005</td>\n",
       "      <td>2000</td>\n",
       "      <td>3000</td>\n",
       "      <td>0</td>\n",
       "      <td>0.0</td>\n",
       "      <td>C</td>\n",
       "      <td>0.0</td>\n",
       "      <td>0.0</td>\n",
       "    </tr>\n",
       "    <tr>\n",
       "      <th>3</th>\n",
       "      <td>Ug99V2_tig00000005</td>\n",
       "      <td>3000</td>\n",
       "      <td>4000</td>\n",
       "      <td>0</td>\n",
       "      <td>0.0</td>\n",
       "      <td>C</td>\n",
       "      <td>0.0</td>\n",
       "      <td>0.0</td>\n",
       "    </tr>\n",
       "    <tr>\n",
       "      <th>4</th>\n",
       "      <td>Ug99V2_tig00000005</td>\n",
       "      <td>4000</td>\n",
       "      <td>5000</td>\n",
       "      <td>0</td>\n",
       "      <td>0.0</td>\n",
       "      <td>C</td>\n",
       "      <td>0.0</td>\n",
       "      <td>0.0</td>\n",
       "    </tr>\n",
       "  </tbody>\n",
       "</table>\n",
       "</div>"
      ],
      "text/plain": [
       "               contig  start  stop  cov_210_on_99  cov_per_base_210_on_99  \\\n",
       "0  Ug99V2_tig00000005      0  1000              0                     0.0   \n",
       "1  Ug99V2_tig00000005   1000  2000              0                     0.0   \n",
       "2  Ug99V2_tig00000005   2000  3000              0                     0.0   \n",
       "3  Ug99V2_tig00000005   3000  4000              0                     0.0   \n",
       "4  Ug99V2_tig00000005   4000  5000              0                     0.0   \n",
       "\n",
       "  karyon_assign_210_on_99  norm_cov_by_mean_210_on_99  \\\n",
       "0                       C                         0.0   \n",
       "1                       C                         0.0   \n",
       "2                       C                         0.0   \n",
       "3                       C                         0.0   \n",
       "4                       C                         0.0   \n",
       "\n",
       "   norm_cov_by_mean_of_karyon_210_on_99  \n",
       "0                                   0.0  \n",
       "1                                   0.0  \n",
       "2                                   0.0  \n",
       "3                                   0.0  \n",
       "4                                   0.0  "
      ]
     },
     "execution_count": 12,
     "metadata": {},
     "output_type": "execute_result"
    }
   ],
   "source": [
    "Pgt99_210_df.head()"
   ]
  },
  {
   "cell_type": "code",
   "execution_count": 13,
   "metadata": {
    "collapsed": true
   },
   "outputs": [],
   "source": [
    "mereged_df = pd.merge(Pgt99_210_df, Pgt99_99_df, on=['contig', 'start', 'stop'] )"
   ]
  },
  {
   "cell_type": "code",
   "execution_count": 14,
   "metadata": {
    "collapsed": false
   },
   "outputs": [
    {
     "data": {
      "text/html": [
       "<div>\n",
       "<style scoped>\n",
       "    .dataframe tbody tr th:only-of-type {\n",
       "        vertical-align: middle;\n",
       "    }\n",
       "\n",
       "    .dataframe tbody tr th {\n",
       "        vertical-align: top;\n",
       "    }\n",
       "\n",
       "    .dataframe thead th {\n",
       "        text-align: right;\n",
       "    }\n",
       "</style>\n",
       "<table border=\"1\" class=\"dataframe\">\n",
       "  <thead>\n",
       "    <tr style=\"text-align: right;\">\n",
       "      <th></th>\n",
       "      <th>contig</th>\n",
       "      <th>start</th>\n",
       "      <th>stop</th>\n",
       "      <th>cov_210_on_99</th>\n",
       "      <th>cov_per_base_210_on_99</th>\n",
       "      <th>karyon_assign_210_on_99</th>\n",
       "      <th>norm_cov_by_mean_210_on_99</th>\n",
       "      <th>norm_cov_by_mean_of_karyon_210_on_99</th>\n",
       "      <th>cov_99_on_99</th>\n",
       "      <th>cov_per_base_99_on_99</th>\n",
       "      <th>karyon_assign_99_on_99</th>\n",
       "      <th>norm_cov_by_mean_99_on_99</th>\n",
       "      <th>norm_cov_by_mean_of_karyon_99_on_99</th>\n",
       "    </tr>\n",
       "  </thead>\n",
       "  <tbody>\n",
       "    <tr>\n",
       "      <th>0</th>\n",
       "      <td>Ug99V2_tig00000005</td>\n",
       "      <td>0</td>\n",
       "      <td>1000</td>\n",
       "      <td>0</td>\n",
       "      <td>0.0</td>\n",
       "      <td>C</td>\n",
       "      <td>0.0</td>\n",
       "      <td>0.0</td>\n",
       "      <td>1484</td>\n",
       "      <td>1.484</td>\n",
       "      <td>C</td>\n",
       "      <td>0.053087</td>\n",
       "      <td>0.052975</td>\n",
       "    </tr>\n",
       "    <tr>\n",
       "      <th>1</th>\n",
       "      <td>Ug99V2_tig00000005</td>\n",
       "      <td>1000</td>\n",
       "      <td>2000</td>\n",
       "      <td>0</td>\n",
       "      <td>0.0</td>\n",
       "      <td>C</td>\n",
       "      <td>0.0</td>\n",
       "      <td>0.0</td>\n",
       "      <td>1328</td>\n",
       "      <td>1.328</td>\n",
       "      <td>C</td>\n",
       "      <td>0.047506</td>\n",
       "      <td>0.047406</td>\n",
       "    </tr>\n",
       "    <tr>\n",
       "      <th>2</th>\n",
       "      <td>Ug99V2_tig00000005</td>\n",
       "      <td>2000</td>\n",
       "      <td>3000</td>\n",
       "      <td>0</td>\n",
       "      <td>0.0</td>\n",
       "      <td>C</td>\n",
       "      <td>0.0</td>\n",
       "      <td>0.0</td>\n",
       "      <td>8206</td>\n",
       "      <td>8.206</td>\n",
       "      <td>C</td>\n",
       "      <td>0.293552</td>\n",
       "      <td>0.292932</td>\n",
       "    </tr>\n",
       "    <tr>\n",
       "      <th>3</th>\n",
       "      <td>Ug99V2_tig00000005</td>\n",
       "      <td>3000</td>\n",
       "      <td>4000</td>\n",
       "      <td>0</td>\n",
       "      <td>0.0</td>\n",
       "      <td>C</td>\n",
       "      <td>0.0</td>\n",
       "      <td>0.0</td>\n",
       "      <td>12668</td>\n",
       "      <td>12.668</td>\n",
       "      <td>C</td>\n",
       "      <td>0.453171</td>\n",
       "      <td>0.452213</td>\n",
       "    </tr>\n",
       "    <tr>\n",
       "      <th>4</th>\n",
       "      <td>Ug99V2_tig00000005</td>\n",
       "      <td>4000</td>\n",
       "      <td>5000</td>\n",
       "      <td>0</td>\n",
       "      <td>0.0</td>\n",
       "      <td>C</td>\n",
       "      <td>0.0</td>\n",
       "      <td>0.0</td>\n",
       "      <td>11619</td>\n",
       "      <td>11.619</td>\n",
       "      <td>C</td>\n",
       "      <td>0.415645</td>\n",
       "      <td>0.414767</td>\n",
       "    </tr>\n",
       "  </tbody>\n",
       "</table>\n",
       "</div>"
      ],
      "text/plain": [
       "               contig  start  stop  cov_210_on_99  cov_per_base_210_on_99  \\\n",
       "0  Ug99V2_tig00000005      0  1000              0                     0.0   \n",
       "1  Ug99V2_tig00000005   1000  2000              0                     0.0   \n",
       "2  Ug99V2_tig00000005   2000  3000              0                     0.0   \n",
       "3  Ug99V2_tig00000005   3000  4000              0                     0.0   \n",
       "4  Ug99V2_tig00000005   4000  5000              0                     0.0   \n",
       "\n",
       "  karyon_assign_210_on_99  norm_cov_by_mean_210_on_99  \\\n",
       "0                       C                         0.0   \n",
       "1                       C                         0.0   \n",
       "2                       C                         0.0   \n",
       "3                       C                         0.0   \n",
       "4                       C                         0.0   \n",
       "\n",
       "   norm_cov_by_mean_of_karyon_210_on_99  cov_99_on_99  cov_per_base_99_on_99  \\\n",
       "0                                   0.0          1484                  1.484   \n",
       "1                                   0.0          1328                  1.328   \n",
       "2                                   0.0          8206                  8.206   \n",
       "3                                   0.0         12668                 12.668   \n",
       "4                                   0.0         11619                 11.619   \n",
       "\n",
       "  karyon_assign_99_on_99  norm_cov_by_mean_99_on_99  \\\n",
       "0                      C                   0.053087   \n",
       "1                      C                   0.047506   \n",
       "2                      C                   0.293552   \n",
       "3                      C                   0.453171   \n",
       "4                      C                   0.415645   \n",
       "\n",
       "   norm_cov_by_mean_of_karyon_99_on_99  \n",
       "0                             0.052975  \n",
       "1                             0.047406  \n",
       "2                             0.292932  \n",
       "3                             0.452213  \n",
       "4                             0.414767  "
      ]
     },
     "execution_count": 14,
     "metadata": {},
     "output_type": "execute_result"
    }
   ],
   "source": [
    "mereged_df.head()"
   ]
  },
  {
   "cell_type": "code",
   "execution_count": 15,
   "metadata": {
    "collapsed": false
   },
   "outputs": [
    {
     "data": {
      "text/plain": [
       "array(['C', 'A'], dtype=object)"
      ]
     },
     "execution_count": 15,
     "metadata": {},
     "output_type": "execute_result"
    }
   ],
   "source": [
    "mereged_df.karyon_assign_210_on_99.unique()"
   ]
  },
  {
   "cell_type": "code",
   "execution_count": 16,
   "metadata": {
    "collapsed": false
   },
   "outputs": [
    {
     "data": {
      "text/html": [
       "<div>\n",
       "<style scoped>\n",
       "    .dataframe tbody tr th:only-of-type {\n",
       "        vertical-align: middle;\n",
       "    }\n",
       "\n",
       "    .dataframe tbody tr th {\n",
       "        vertical-align: top;\n",
       "    }\n",
       "\n",
       "    .dataframe thead th {\n",
       "        text-align: right;\n",
       "    }\n",
       "</style>\n",
       "<table border=\"1\" class=\"dataframe\">\n",
       "  <thead>\n",
       "    <tr style=\"text-align: right;\">\n",
       "      <th></th>\n",
       "      <th>contig</th>\n",
       "      <th>start</th>\n",
       "      <th>stop</th>\n",
       "      <th>cov_210_on_99</th>\n",
       "      <th>cov_per_base_210_on_99</th>\n",
       "      <th>karyon_assign_210_on_99</th>\n",
       "      <th>norm_cov_by_mean_210_on_99</th>\n",
       "      <th>norm_cov_by_mean_of_karyon_210_on_99</th>\n",
       "      <th>cov_99_on_99</th>\n",
       "      <th>cov_per_base_99_on_99</th>\n",
       "      <th>karyon_assign_99_on_99</th>\n",
       "      <th>norm_cov_by_mean_99_on_99</th>\n",
       "      <th>norm_cov_by_mean_of_karyon_99_on_99</th>\n",
       "    </tr>\n",
       "  </thead>\n",
       "  <tbody>\n",
       "    <tr>\n",
       "      <th>0</th>\n",
       "      <td>Ug99V2_tig00000005</td>\n",
       "      <td>0</td>\n",
       "      <td>1000</td>\n",
       "      <td>0</td>\n",
       "      <td>0.0</td>\n",
       "      <td>C</td>\n",
       "      <td>0.0</td>\n",
       "      <td>0.0</td>\n",
       "      <td>1484</td>\n",
       "      <td>1.484</td>\n",
       "      <td>C</td>\n",
       "      <td>0.053087</td>\n",
       "      <td>0.052975</td>\n",
       "    </tr>\n",
       "    <tr>\n",
       "      <th>1</th>\n",
       "      <td>Ug99V2_tig00000005</td>\n",
       "      <td>1000</td>\n",
       "      <td>2000</td>\n",
       "      <td>0</td>\n",
       "      <td>0.0</td>\n",
       "      <td>C</td>\n",
       "      <td>0.0</td>\n",
       "      <td>0.0</td>\n",
       "      <td>1328</td>\n",
       "      <td>1.328</td>\n",
       "      <td>C</td>\n",
       "      <td>0.047506</td>\n",
       "      <td>0.047406</td>\n",
       "    </tr>\n",
       "    <tr>\n",
       "      <th>2</th>\n",
       "      <td>Ug99V2_tig00000005</td>\n",
       "      <td>2000</td>\n",
       "      <td>3000</td>\n",
       "      <td>0</td>\n",
       "      <td>0.0</td>\n",
       "      <td>C</td>\n",
       "      <td>0.0</td>\n",
       "      <td>0.0</td>\n",
       "      <td>8206</td>\n",
       "      <td>8.206</td>\n",
       "      <td>C</td>\n",
       "      <td>0.293552</td>\n",
       "      <td>0.292932</td>\n",
       "    </tr>\n",
       "    <tr>\n",
       "      <th>3</th>\n",
       "      <td>Ug99V2_tig00000005</td>\n",
       "      <td>3000</td>\n",
       "      <td>4000</td>\n",
       "      <td>0</td>\n",
       "      <td>0.0</td>\n",
       "      <td>C</td>\n",
       "      <td>0.0</td>\n",
       "      <td>0.0</td>\n",
       "      <td>12668</td>\n",
       "      <td>12.668</td>\n",
       "      <td>C</td>\n",
       "      <td>0.453171</td>\n",
       "      <td>0.452213</td>\n",
       "    </tr>\n",
       "    <tr>\n",
       "      <th>4</th>\n",
       "      <td>Ug99V2_tig00000005</td>\n",
       "      <td>4000</td>\n",
       "      <td>5000</td>\n",
       "      <td>0</td>\n",
       "      <td>0.0</td>\n",
       "      <td>C</td>\n",
       "      <td>0.0</td>\n",
       "      <td>0.0</td>\n",
       "      <td>11619</td>\n",
       "      <td>11.619</td>\n",
       "      <td>C</td>\n",
       "      <td>0.415645</td>\n",
       "      <td>0.414767</td>\n",
       "    </tr>\n",
       "  </tbody>\n",
       "</table>\n",
       "</div>"
      ],
      "text/plain": [
       "               contig  start  stop  cov_210_on_99  cov_per_base_210_on_99  \\\n",
       "0  Ug99V2_tig00000005      0  1000              0                     0.0   \n",
       "1  Ug99V2_tig00000005   1000  2000              0                     0.0   \n",
       "2  Ug99V2_tig00000005   2000  3000              0                     0.0   \n",
       "3  Ug99V2_tig00000005   3000  4000              0                     0.0   \n",
       "4  Ug99V2_tig00000005   4000  5000              0                     0.0   \n",
       "\n",
       "  karyon_assign_210_on_99  norm_cov_by_mean_210_on_99  \\\n",
       "0                       C                         0.0   \n",
       "1                       C                         0.0   \n",
       "2                       C                         0.0   \n",
       "3                       C                         0.0   \n",
       "4                       C                         0.0   \n",
       "\n",
       "   norm_cov_by_mean_of_karyon_210_on_99  cov_99_on_99  cov_per_base_99_on_99  \\\n",
       "0                                   0.0          1484                  1.484   \n",
       "1                                   0.0          1328                  1.328   \n",
       "2                                   0.0          8206                  8.206   \n",
       "3                                   0.0         12668                 12.668   \n",
       "4                                   0.0         11619                 11.619   \n",
       "\n",
       "  karyon_assign_99_on_99  norm_cov_by_mean_99_on_99  \\\n",
       "0                      C                   0.053087   \n",
       "1                      C                   0.047506   \n",
       "2                      C                   0.293552   \n",
       "3                      C                   0.453171   \n",
       "4                      C                   0.415645   \n",
       "\n",
       "   norm_cov_by_mean_of_karyon_99_on_99  \n",
       "0                             0.052975  \n",
       "1                             0.047406  \n",
       "2                             0.292932  \n",
       "3                             0.452213  \n",
       "4                             0.414767  "
      ]
     },
     "execution_count": 16,
     "metadata": {},
     "output_type": "execute_result"
    }
   ],
   "source": [
    "mereged_df.head()"
   ]
  },
  {
   "cell_type": "code",
   "execution_count": 17,
   "metadata": {
    "collapsed": true
   },
   "outputs": [],
   "source": [
    "mereged_df.drop(['karyon_assign_99_on_99'], axis=1, inplace = True)"
   ]
  },
  {
   "cell_type": "code",
   "execution_count": 18,
   "metadata": {
    "collapsed": true
   },
   "outputs": [],
   "source": [
    "mereged_df.sort_values('karyon_assign_210_on_99', inplace=True)"
   ]
  },
  {
   "cell_type": "code",
   "execution_count": 19,
   "metadata": {
    "collapsed": true
   },
   "outputs": [],
   "source": [
    "colors = {'A': '#95d0fc','B': '#f8974f', 'C': '#15b01a'}"
   ]
  },
  {
   "cell_type": "code",
   "execution_count": 32,
   "metadata": {
    "collapsed": false,
    "scrolled": true
   },
   "outputs": [
    {
     "data": {
      "image/png": "[encoded data removed]",
      "text/plain": [
       "<Figure size 864x576 with 2 Axes>"
      ]
     },
     "metadata": {},
     "output_type": "display_data"
    }
   ],
   "source": [
    "cutoff = 4\n",
    "df = mereged_df[(mereged_df['norm_cov_by_mean_of_karyon_210_on_99'] < cutoff)\\\n",
    "               & (mereged_df['norm_cov_by_mean_of_karyon_99_on_99'] < cutoff)]\n",
    "fig, (ax1, ax2) = plt.subplots(1,2, figsize=(12,8), sharey=True)\n",
    "sns.set_style(\"whitegrid\")\n",
    "sns.violinplot(x='karyon_assign_210_on_99', y='norm_cov_by_mean_of_karyon_99_on_99', palette=colors, cut =0,order=[\"A\", \"C\"],\\\n",
    "              data=df, ax=ax1, inner=\"quart\")\n",
    "sns.violinplot(x='karyon_assign_210_on_99', y='norm_cov_by_mean_of_karyon_210_on_99', palette=colors, cut =0,order=[\"A\", \"C\"],\\\n",
    "              data=df, ax=ax2, inner=\"quart\")\n",
    "\n",
    "ax1.set_ylabel(\"Normalized Mean Mapping Coverage\", size=15)\n",
    "ax2.set_ylabel(\"\", size=15)\n",
    "\n",
    "ax1.set_xlabel(\"Mapping Pgt_Ug99 reads\", size=15)\n",
    "ax2.set_xlabel(\"Mapping Pgt_210 reads\", size=15)\n",
    "\n",
    "\n",
    "ax1.set_yticks([x for x in range(0, cutoff+1)])\n",
    "ax1.set_yticklabels([str(x) for x in range(0, cutoff+1)], size =14)\n",
    "\n",
    "ax1.set_xticklabels(['',''])\n",
    "ax2.set_xticklabels(['',''])\n",
    "\n",
    "\n",
    "custom_lines = [Line2D([0],[0], color = colors['A'], lw=4 ),\n",
    "               Line2D([0],[0], color = colors['C'], lw=4 )]\n",
    "ax2.legend(custom_lines, [\"A\", \"C\"], fontsize =15, loc='best', bbox_to_anchor=(1.4, 1))\n",
    "\n",
    "\n",
    "plt.tight_layout()\n",
    "fig.savefig(\"PgtUg99ref_rn_with_ug99reads_and210reads.png\", dpi = 300)\n",
    "fig.savefig(\"PgtUg99ref_rn_with_ug99reads_and210reads.svg\", dpi = 300)\n"
   ]
  },
  {
   "cell_type": "code",
   "execution_count": null,
   "metadata": {
    "collapsed": true
   },
   "outputs": [],
   "source": []
  },
  {
   "cell_type": "code",
   "execution_count": 21,
   "metadata": {
    "collapsed": true
   },
   "outputs": [],
   "source": [
    "# use 210 as reference"
   ]
  },
  {
   "cell_type": "code",
   "execution_count": 22,
   "metadata": {
    "collapsed": true
   },
   "outputs": [],
   "source": [
    "new_column_name_Pgt210_99 = list(Pgt210_99_df.columns[0:3]) + [x +'_99_on_210' for x in Pgt210_99_df.columns[3:]  ]"
   ]
  },
  {
   "cell_type": "code",
   "execution_count": 23,
   "metadata": {
    "collapsed": true
   },
   "outputs": [],
   "source": [
    "Pgt210_99_df.rename(columns=dict(zip(Pgt210_99_df.columns, new_column_name_Pgt210_99)), inplace=True)"
   ]
  },
  {
   "cell_type": "code",
   "execution_count": 24,
   "metadata": {
    "collapsed": true
   },
   "outputs": [],
   "source": [
    "new_column_name_Pgt210_210 = list(Pgt210_210_df.columns[0:3]) + [x +'_210_on_210' for x in Pgt210_210_df.columns[3:]  ]\n",
    "\n",
    "Pgt210_210_df.rename(columns=dict(zip(Pgt210_210_df.columns, new_column_name_Pgt210_210)), inplace = True)"
   ]
  },
  {
   "cell_type": "code",
   "execution_count": 25,
   "metadata": {
    "collapsed": true
   },
   "outputs": [],
   "source": [
    "mereged_df2 = pd.merge(Pgt210_99_df, Pgt210_210_df, on=['contig', 'start', 'stop'] )"
   ]
  },
  {
   "cell_type": "code",
   "execution_count": 26,
   "metadata": {
    "collapsed": false
   },
   "outputs": [
    {
     "data": {
      "text/html": [
       "<div>\n",
       "<style scoped>\n",
       "    .dataframe tbody tr th:only-of-type {\n",
       "        vertical-align: middle;\n",
       "    }\n",
       "\n",
       "    .dataframe tbody tr th {\n",
       "        vertical-align: top;\n",
       "    }\n",
       "\n",
       "    .dataframe thead th {\n",
       "        text-align: right;\n",
       "    }\n",
       "</style>\n",
       "<table border=\"1\" class=\"dataframe\">\n",
       "  <thead>\n",
       "    <tr style=\"text-align: right;\">\n",
       "      <th></th>\n",
       "      <th>contig</th>\n",
       "      <th>start</th>\n",
       "      <th>stop</th>\n",
       "      <th>cov_99_on_210</th>\n",
       "      <th>cov_per_base_99_on_210</th>\n",
       "      <th>karyon_assign_99_on_210</th>\n",
       "      <th>norm_cov_by_mean_of_karyon_99_on_210</th>\n",
       "      <th>cov_210_on_210</th>\n",
       "      <th>cov_per_base_210_on_210</th>\n",
       "      <th>karyon_assign_210_on_210</th>\n",
       "      <th>norm_cov_by_mean_of_karyon_210_on_210</th>\n",
       "    </tr>\n",
       "  </thead>\n",
       "  <tbody>\n",
       "    <tr>\n",
       "      <th>0</th>\n",
       "      <td>210V2_tig00000006</td>\n",
       "      <td>0</td>\n",
       "      <td>1000</td>\n",
       "      <td>13452</td>\n",
       "      <td>13.452</td>\n",
       "      <td>A</td>\n",
       "      <td>0.439910</td>\n",
       "      <td>16124</td>\n",
       "      <td>16.124</td>\n",
       "      <td>A</td>\n",
       "      <td>0.452785</td>\n",
       "    </tr>\n",
       "    <tr>\n",
       "      <th>1</th>\n",
       "      <td>210V2_tig00000006</td>\n",
       "      <td>1000</td>\n",
       "      <td>2000</td>\n",
       "      <td>18587</td>\n",
       "      <td>18.587</td>\n",
       "      <td>A</td>\n",
       "      <td>0.607835</td>\n",
       "      <td>19194</td>\n",
       "      <td>19.194</td>\n",
       "      <td>A</td>\n",
       "      <td>0.538995</td>\n",
       "    </tr>\n",
       "    <tr>\n",
       "      <th>2</th>\n",
       "      <td>210V2_tig00000006</td>\n",
       "      <td>2000</td>\n",
       "      <td>3000</td>\n",
       "      <td>83</td>\n",
       "      <td>0.083</td>\n",
       "      <td>A</td>\n",
       "      <td>0.002714</td>\n",
       "      <td>61</td>\n",
       "      <td>0.061</td>\n",
       "      <td>A</td>\n",
       "      <td>0.001713</td>\n",
       "    </tr>\n",
       "    <tr>\n",
       "      <th>3</th>\n",
       "      <td>210V2_tig00000006</td>\n",
       "      <td>3000</td>\n",
       "      <td>4000</td>\n",
       "      <td>8935</td>\n",
       "      <td>8.935</td>\n",
       "      <td>A</td>\n",
       "      <td>0.292194</td>\n",
       "      <td>1976</td>\n",
       "      <td>1.976</td>\n",
       "      <td>A</td>\n",
       "      <td>0.055489</td>\n",
       "    </tr>\n",
       "    <tr>\n",
       "      <th>4</th>\n",
       "      <td>210V2_tig00000006</td>\n",
       "      <td>4000</td>\n",
       "      <td>5000</td>\n",
       "      <td>579</td>\n",
       "      <td>0.579</td>\n",
       "      <td>A</td>\n",
       "      <td>0.018935</td>\n",
       "      <td>21</td>\n",
       "      <td>0.021</td>\n",
       "      <td>A</td>\n",
       "      <td>0.000590</td>\n",
       "    </tr>\n",
       "  </tbody>\n",
       "</table>\n",
       "</div>"
      ],
      "text/plain": [
       "              contig  start  stop  cov_99_on_210  cov_per_base_99_on_210  \\\n",
       "0  210V2_tig00000006      0  1000          13452                  13.452   \n",
       "1  210V2_tig00000006   1000  2000          18587                  18.587   \n",
       "2  210V2_tig00000006   2000  3000             83                   0.083   \n",
       "3  210V2_tig00000006   3000  4000           8935                   8.935   \n",
       "4  210V2_tig00000006   4000  5000            579                   0.579   \n",
       "\n",
       "  karyon_assign_99_on_210  norm_cov_by_mean_of_karyon_99_on_210  \\\n",
       "0                       A                              0.439910   \n",
       "1                       A                              0.607835   \n",
       "2                       A                              0.002714   \n",
       "3                       A                              0.292194   \n",
       "4                       A                              0.018935   \n",
       "\n",
       "   cov_210_on_210  cov_per_base_210_on_210 karyon_assign_210_on_210  \\\n",
       "0           16124                   16.124                        A   \n",
       "1           19194                   19.194                        A   \n",
       "2              61                    0.061                        A   \n",
       "3            1976                    1.976                        A   \n",
       "4              21                    0.021                        A   \n",
       "\n",
       "   norm_cov_by_mean_of_karyon_210_on_210  \n",
       "0                               0.452785  \n",
       "1                               0.538995  \n",
       "2                               0.001713  \n",
       "3                               0.055489  \n",
       "4                               0.000590  "
      ]
     },
     "execution_count": 26,
     "metadata": {},
     "output_type": "execute_result"
    }
   ],
   "source": [
    "mereged_df2.head()"
   ]
  },
  {
   "cell_type": "code",
   "execution_count": 27,
   "metadata": {
    "collapsed": false
   },
   "outputs": [
    {
     "data": {
      "text/plain": [
       "array(['A', 'B'], dtype=object)"
      ]
     },
     "execution_count": 27,
     "metadata": {},
     "output_type": "execute_result"
    }
   ],
   "source": [
    "mereged_df2.karyon_assign_210_on_210.unique()"
   ]
  },
  {
   "cell_type": "code",
   "execution_count": 28,
   "metadata": {
    "collapsed": true
   },
   "outputs": [],
   "source": [
    "mereged_df2.drop(['karyon_assign_210_on_210'], axis=1, inplace = True)"
   ]
  },
  {
   "cell_type": "code",
   "execution_count": 29,
   "metadata": {
    "collapsed": true
   },
   "outputs": [],
   "source": [
    "mereged_df2.sort_values('karyon_assign_99_on_210', inplace=True)"
   ]
  },
  {
   "cell_type": "code",
   "execution_count": 31,
   "metadata": {
    "collapsed": false
   },
   "outputs": [
    {
     "data": {
      "image/png": "[encoded data removed]",
      "text/plain": [
       "<Figure size 864x576 with 2 Axes>"
      ]
     },
     "metadata": {},
     "output_type": "display_data"
    }
   ],
   "source": [
    "cutoff = 4\n",
    "df = mereged_df2[(mereged_df2['norm_cov_by_mean_of_karyon_99_on_210'] < cutoff)\\\n",
    "               & (mereged_df2['norm_cov_by_mean_of_karyon_210_on_210'] < cutoff)]\n",
    "fig, (ax1, ax2) = plt.subplots(1,2, figsize=(12,8), sharey=True)\n",
    "sns.set_style(\"whitegrid\")\n",
    "sns.violinplot(x='karyon_assign_99_on_210', y='norm_cov_by_mean_of_karyon_210_on_210', palette=colors, cut =0,order=[\"A\", \"B\"],\\\n",
    "              data=df, ax=ax1, inner=\"quart\")\n",
    "sns.violinplot(x='karyon_assign_99_on_210', y='norm_cov_by_mean_of_karyon_99_on_210', palette=colors, cut =0,order=[\"A\", \"B\"],\\\n",
    "              data=df, ax=ax2, inner=\"quart\")\n",
    "\n",
    "ax1.set_ylabel(\"Normalized Mean Mapping Coverage\", size=15)\n",
    "ax2.set_ylabel(\"\", size=15)\n",
    "\n",
    "ax1.set_xlabel(\"Mapping Pgt_210 reads\", size=15)\n",
    "ax2.set_xlabel(\"Mapping Pgt_Ug99 reads\", size=15)\n",
    "\n",
    "\n",
    "ax1.set_yticks([x for x in range(0, cutoff+1)])\n",
    "ax1.set_yticklabels([str(x) for x in range(0, cutoff+1)], size =14)\n",
    "\n",
    "ax1.set_xticklabels(['',''])\n",
    "ax2.set_xticklabels(['',''])\n",
    "\n",
    "\n",
    "custom_lines = [Line2D([0],[0], color = colors['A'], lw=4 ),\n",
    "               Line2D([0],[0], color = colors['B'], lw=4 )]\n",
    "ax2.legend(custom_lines, [\"A\", \"B\"], fontsize =15, loc='best', bbox_to_anchor=(1.4, 1))\n",
    "\n",
    "plt.tight_layout()\n",
    "fig.savefig(\"Pgt210ref_rn_with_ug99reads_and210reads.png\", dpi = 300)\n",
    "fig.savefig(\"Pgt210ref_rn_with_ug99reads_and210reads.svg\", dpi = 300)"
   ]
  }
 ],
 "metadata": {
  "kernelspec": {
   "display_name": "Python (ben_anu)",
   "language": "python",
   "name": "ben_anu"
  },
  "language_info": {
   "codemirror_mode": {
    "name": "ipython",
    "version": 3
   },
   "file_extension": ".py",
   "mimetype": "text/x-python",
   "name": "python",
   "nbconvert_exporter": "python",
   "pygments_lexer": "ipython3",
   "version": "3.6.3"
  }
 },
 "nbformat": 4,
 "nbformat_minor": 0
}
