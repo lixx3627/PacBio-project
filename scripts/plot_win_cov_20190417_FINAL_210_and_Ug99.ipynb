{
 "cells": [
  {
   "cell_type": "code",
   "execution_count": null,
   "metadata": {
    "collapsed": true
   },
   "outputs": [],
   "source": [
    "# This script is to analyze genome coverage of mapping Illumina reads (Ug99, 210) against genome reference (Ug99 and 210) with high stringency parameters \n",
    "# Analyzing the coverage in sliding windows (i.e. 1000 bp) of the references using samtools bedcov.\n",
    "# Authors: Benjamin Schwessinger and Feng Li"
   ]
  },
  {
   "cell_type": "code",
   "execution_count": 7,
   "metadata": {
    "collapsed": false
   },
   "outputs": [],
   "source": [
    "# set the PATH to the bioconda environment loaded"
   ]
  },
  {
   "cell_type": "code",
   "execution_count": 8,
   "metadata": {
    "collapsed": false
   },
   "outputs": [
    {
     "name": "stdout",
     "output_type": "stream",
     "text": [
      "env: PATH=/home/figueroa/lixx3627/.conda/envs/ben_anu/bin:/panfs/roc/msisoft/python3/3.4-conda/bin:/usr/local/bin:/usr/local/sbin:/usr/share/Modules/bin:/opt/moab/bin:/opt/rh/python33/root/usr/bin:/sbin:/usr/sbin:/bin:/usr/bin:/usr/local/bin:/usr/local/sbin:/opt/msi/bin:/opt/puppetlabs/bin:/home/figueroa/lixx3627/src/bioawk:/home/figueroa/lixx3627/src/seqtk/seqtk/\n"
     ]
    }
   ],
   "source": [
    "set_env PATH=/home/figueroa/lixx3627/.conda/envs/ben_anu/bin:/panfs/roc/msisoft/python3/3.4-conda/bin:/usr/local/bin:/usr/local/sbin:/usr/share/Modules/bin:/opt/moab/bin:/opt/rh/python33/root/usr/bin:/sbin:/usr/sbin:/bin:/usr/bin:/usr/local/bin:/usr/local/sbin:/opt/msi/bin:/opt/puppetlabs/bin:/home/figueroa/lixx3627/src/bioawk:/home/figueroa/lixx3627/src/seqtk/seqtk/"
   ]
  },
  {
   "cell_type": "code",
   "execution_count": 9,
   "metadata": {
    "collapsed": true
   },
   "outputs": [],
   "source": [
    "%matplotlib inline"
   ]
  },
  {
   "cell_type": "code",
   "execution_count": 11,
   "metadata": {
    "collapsed": false
   },
   "outputs": [],
   "source": [
    "import pandas as pd\n",
    "import os\n",
    "import re\n",
    "from Bio.SeqRecord import SeqRecord\n",
    "import numpy as np\n",
    "import pybedtools\n",
    "import time\n",
    "import matplotlib.pyplot as plt\n",
    "import sys\n",
    "import subprocess\n",
    "import shutil\n",
    "import glob\n",
    "import scipy.stats as stats\n",
    "import statsmodels as sms\n",
    "import statsmodels.sandbox.stats.multicomp\n",
    "import matplotlib\n",
    "from sklearn.externals.joblib import Parallel, delayed\n",
    "import itertools as it\n",
    "from scipy.signal import argrelextrema\n",
    "import scipy\n",
    "from pybedtools import BedTool\n",
    "import seaborn as sns\n",
    "import altair as alt"
   ]
  },
  {
   "cell_type": "code",
   "execution_count": 82,
   "metadata": {
    "collapsed": false
   },
   "outputs": [],
   "source": [
    "def run_command(command):\n",
    "    print('\\nRunnning now!\\n')\n",
    "    print(command)\n",
    "    output = subprocess.check_output(command, shell=True, stderr=subprocess.STDOUT)\n",
    "    print('\\nDone\\nWith ouput:\\n%s' % output)\n",
    "    print(output)\n",
    "    \n",
    "def hello_print(command_list):\n",
    "    print(command_list)\n",
    "\n",
    "def df_to_tab(df, fn):\n",
    "    \"\"\"Takes a df and a filename to save it out as tab seperated file.\"\"\"\n",
    "    df.to_csv(fn, header=None, index=None, sep='\\t')\n",
    "\n",
    "def faidx_genome(genome_fn, contig_fn):\n",
    "    '''Generates a genome file used for samtools and such if not already present.\n",
    "    Input: \n",
    "    Abspath filename of output genome_file.\n",
    "    Abspath filename for genome contig file.'''\n",
    "    if not os.path.exists(genome_fn):\n",
    "        samtools_command = 'samtools faidx %s' % contig_fn\n",
    "        run_command(samtools_command)\n",
    "        genome_file_command = 'cat %s.fai | sort -k1,1n | cut -f 1,2 > %s' %(contig_fn, genome_fn)\n",
    "        run_command(genome_file_command)\n",
    "    else:\n",
    "        print('%s already exists!' % genome_fn)\n",
    "    \n",
    "def remove_files(file_list):\n",
    "    for file in file_list:\n",
    "        os.remove(file)\n",
    "\n",
    "def run_sam_bedcov(bed_fn, bam_fn, samcov_fn, tmp_path, parallel = False):\n",
    "    \"\"\"This function runst samtools bedcov. It also has the option to do this in parallel spliting up the bed_cov file in equal junks plus one.\n",
    "    Input:\n",
    "        bed file name as Abspath.\n",
    "        bam file name as Abspath.\n",
    "        Samcov file as Abspath.\n",
    "        Option to run thinks in parllel. Set to False. Provide the number of threads you want to run -1.\n",
    "    Output:\n",
    "        It generate the samcov files and saves them to file.\"\"\"\n",
    "    command = 'samtools bedcov %s %s > %s' % (bed_fn, bam_fn, samcov_fn)\n",
    "    if parallel != False and type(parallel) == int:\n",
    "        split_bed_files = bed_file_split(bed_fn, parallel, tmp_path)\n",
    "        split_samcov_files = samcov_file_split(samcov_fn, len(split_bed_files), tmp_path=tmp_path)\n",
    "        bam_files = [bam_fn]*len(split_bed_files)\n",
    "        tmp_path_list = [tmp_path] * len(split_bed_files)\n",
    "        n_threads = len(split_bed_files)\n",
    "        Parallel(n_jobs=n_threads)(delayed(run_sam_bedcov)(bed, bam, sam, tmp_path) for bed, bam, sam in zip(split_bed_files, bam_files, split_samcov_files))\n",
    "        combine_samcov_files(split_samcov_files)\n",
    "        remove_files(split_samcov_files)\n",
    "        remove_files(split_bed_files)\n",
    "    else:\n",
    "        run_command(command)\n",
    "\n",
    "def bed_file_split(bed_fn, num_chunks, tmp_path):\n",
    "    '''Splits a bedfile into even chunks of files plus the reads. Each file having the same number of lines.\n",
    "    Input:\n",
    "    bed file name abspath\n",
    "    chunks to split into\n",
    "    tmp_path where the split files get saved into.\n",
    "    Returns:\n",
    "    List of abspath filenames for split bed files.'''\n",
    "    infilename = bed_fn\n",
    "    number_of_lines = 0\n",
    "    with open(infilename, 'rb') as infile:\n",
    "        for x in infile:\n",
    "            number_of_lines = number_of_lines + 1\n",
    "    print('in_file_line_number:', number_of_lines)\n",
    "    chunk_size = number_of_lines // num_chunks\n",
    "    print('target chunk_size:', chunk_size)\n",
    "    files = []\n",
    "    \n",
    "    previous = 0\n",
    "    for i,y in enumerate([x for x in range(0, number_of_lines, chunk_size)]):\n",
    "        if y == 0:\n",
    "            continue\n",
    "                    \n",
    "        else:\n",
    "            temp_fn = os.path.join(TMP_PATH, '%s_%s' % (os.path.basename(bed_fn), i-1))\n",
    "            with open(temp_fn, 'w') as temp_file:\n",
    "                with open(infilename, 'r') as infile:\n",
    "                    for line_number, line in enumerate(infile):\n",
    "                        if line_number < y and line_number >= previous:\n",
    "                            print(line.rstrip(), file=temp_file)\n",
    "                        else:\n",
    "                            continue\n",
    "            previous = y\n",
    "            files.append(temp_fn)\n",
    "    if y < number_of_lines:\n",
    "        temp_fn = os.path.join(TMP_PATH, '%s_%s' % (os.path.basename(bed_fn), i))\n",
    "        with open(temp_fn, 'w') as temp_file:\n",
    "                with open(infilename, 'r') as infile:\n",
    "                    for line_number, line in enumerate(infile):\n",
    "                        if line_number >= y:\n",
    "                            print(line.rstrip(), file=temp_file)\n",
    "                        else:\n",
    "                            continue\n",
    "    files.append(temp_fn)\n",
    "    return files\n",
    "\n",
    "def samcov_file_split(basefile_name, chunks, tmp_path):\n",
    "    \"\"\"This function takes the samcov file and generates the split filenames necessary to run the \n",
    "    parallelized run_sam_bedcov.\"\"\"\n",
    "    chunk_base_name = os.path.join(tmp_path, os.path.basename(basefile_name))\n",
    "    return_list = []\n",
    "    for x in range(0, chunks):\n",
    "        return_list.append('%s_%s' % (chunk_base_name, x))\n",
    "    return return_list\n",
    "\n",
    "def combine_samcov_files(file_list):\n",
    "    \"\"\"This function concatenates samcov files from a tmp folder into the folder below. And removes all tmp files.\"\"\"\n",
    "    command = 'cat'\n",
    "    combined_file = os.path.basename(file_list[0])[:-2]\n",
    "    combined_file_fn = os.path.join(os.path.dirname(file_list[0]),'..', combined_file)\n",
    "    for file in file_list:\n",
    "        command = command + ' %s' % file\n",
    "    command = command + ' > %s'  % combined_file_fn\n",
    "    run_command(command)\n",
    "    "
   ]
  },
  {
   "cell_type": "code",
   "execution_count": 67,
   "metadata": {
    "collapsed": true
   },
   "outputs": [],
   "source": [
    "# #Define some PATH variables\n",
    "# BASE_AA_PATH: reference genome fasta file; SRM_PATH: short-read mapping files\n",
    "BASE_AA_PATH = '../../shared/Analysis/ug99_Jan/karyon_study/data/reference_genome/after_BP'\n",
    "SRM_PATH = '../../shared/Analysis/ug99_Jan/karyon_study/analysis/mapped_reads/after_BP'\n",
    "# COV_PATH: provide a PATH to write down covearge calculation (samcov) results\n",
    "COV_PATH = '../../shared/Analysis/ug99_Jan/karyon_study/analysis/COV/'\n",
    "\n",
    "# karyon assignment file for 210, Ug99, and 98 contain contig column and karyon assign column\n",
    "KAYRON_ASSIGN_210 = '/panfs/roc/groups/7/figueroa/shared/Analysis/ug99_Jan/karyon_study/analysis/COV/karyon_assign_afterBP/210_karyon_assign.csv'\n",
    "KAYRON_ASSIGN_Ug99 = '/panfs/roc/groups/7/figueroa/shared/Analysis/ug99_Jan/karyon_study/analysis/COV/karyon_assign_afterBP/Ug99_karyon_assign.csv'\n",
    "\n",
    "# copy the samcov result files in another folder and gave it PATH as SAMCOV, when reusing samcov files for downstream analysis while not overwriting them\n",
    "#SAMCOV = '/panfs/roc/groups/7/figueroa/shared/Analysis/ug99_Jan/karyon_study/analysis/COV/samcov/after_BP'\n",
    "\n",
    "threads = 8"
   ]
  },
  {
   "cell_type": "code",
   "execution_count": 77,
   "metadata": {
    "collapsed": false
   },
   "outputs": [],
   "source": [
    "#OUT_PATH = os.path.join(os.path.abspath(COV_PATH), 'analysis', mapping_project)\n",
    "OUT_PATH = os.path.join(os.path.abspath(COV_PATH))\n",
    "\n",
    "TMP_PATH = os.path.join(OUT_PATH, 'tmp')\n",
    "if not os.path.exists(TMP_PATH):\n",
    "    os.makedirs(TMP_PATH)"
   ]
  },
  {
   "cell_type": "code",
   "execution_count": 69,
   "metadata": {
    "collapsed": false
   },
   "outputs": [],
   "source": [
    "# this block was used to define path names if I need to run samcov here\n",
    "\n",
    "#define some filenames for assembly files\n",
    "genome_list = [os.path.join(os.path.abspath(BASE_AA_PATH), x) for x in os.listdir(BASE_AA_PATH) if x.endswith('.fa') ]\n",
    "genome_list.sort()\n",
    "genome_file_fn_list = [x.replace('.fa', '.genome_file') for x in genome_list]\n",
    "#and mapping bam files\n",
    "bam_file_list = [os.path.join(os.path.abspath(SRM_PATH), x) for x in os.listdir(SRM_PATH) if x.endswith('.bam') ]\n",
    "\n",
    "#generate the file names of the samecov files, when calculating samcov files\n",
    "samcov_1k_file_list = [os.path.join(OUT_PATH, os.path.basename(x).replace('.bam', '.window_1k.samcov')) for x in bam_file_list]\n",
    "# for SAMCOV PATH, when reusing samcov files\n",
    "# samcov_1k_file_list = [os.path.join(os.path.abspath(SAMCOV), x) for x in os.listdir(SAMCOV) if x.endswith('1k.samcov') ]\n"
   ]
  },
  {
   "cell_type": "code",
   "execution_count": 70,
   "metadata": {
    "collapsed": false
   },
   "outputs": [
    {
     "data": {
      "text/plain": [
       "['/panfs/roc/groups/7/figueroa/shared/Analysis/ug99_Jan/karyon_study/data/reference_genome/after_BP/210V2AP2_446ctg.genome_file',\n",
       " '/panfs/roc/groups/7/figueroa/shared/Analysis/ug99_Jan/karyon_study/data/reference_genome/after_BP/98V2AP2_333ctg.genome_file',\n",
       " '/panfs/roc/groups/7/figueroa/shared/Analysis/ug99_Jan/karyon_study/data/reference_genome/after_BP/Ug99V2AP2_537ctg.genome_file']"
      ]
     },
     "execution_count": 70,
     "metadata": {},
     "output_type": "execute_result"
    }
   ],
   "source": [
    "genome_file_fn_list"
   ]
  },
  {
   "cell_type": "code",
   "execution_count": 71,
   "metadata": {
    "collapsed": false
   },
   "outputs": [
    {
     "name": "stdout",
     "output_type": "stream",
     "text": [
      "\n",
      "Runnning now!\n",
      "\n",
      "samtools faidx /panfs/roc/groups/7/figueroa/shared/Analysis/ug99_Jan/karyon_study/data/reference_genome/after_BP/210V2AP2_446ctg.fa\n",
      "\n",
      "Done\n",
      "With ouput:\n",
      "b''\n",
      "b''\n",
      "\n",
      "Runnning now!\n",
      "\n",
      "cat /panfs/roc/groups/7/figueroa/shared/Analysis/ug99_Jan/karyon_study/data/reference_genome/after_BP/210V2AP2_446ctg.fa.fai | sort -k1,1n | cut -f 1,2 > /panfs/roc/groups/7/figueroa/shared/Analysis/ug99_Jan/karyon_study/data/reference_genome/after_BP/210V2AP2_446ctg.genome_file\n",
      "\n",
      "Done\n",
      "With ouput:\n",
      "b''\n",
      "b''\n",
      "\n",
      "Runnning now!\n",
      "\n",
      "samtools faidx /panfs/roc/groups/7/figueroa/shared/Analysis/ug99_Jan/karyon_study/data/reference_genome/after_BP/98V2AP2_333ctg.fa\n",
      "\n",
      "Done\n",
      "With ouput:\n",
      "b''\n",
      "b''\n",
      "\n",
      "Runnning now!\n",
      "\n",
      "cat /panfs/roc/groups/7/figueroa/shared/Analysis/ug99_Jan/karyon_study/data/reference_genome/after_BP/98V2AP2_333ctg.fa.fai | sort -k1,1n | cut -f 1,2 > /panfs/roc/groups/7/figueroa/shared/Analysis/ug99_Jan/karyon_study/data/reference_genome/after_BP/98V2AP2_333ctg.genome_file\n",
      "\n",
      "Done\n",
      "With ouput:\n",
      "b''\n",
      "b''\n",
      "/panfs/roc/groups/7/figueroa/shared/Analysis/ug99_Jan/karyon_study/data/reference_genome/after_BP/Ug99V2AP2_537ctg.genome_file already exists!\n"
     ]
    }
   ],
   "source": [
    "#now generate some genome files and some window files\n",
    "for genome, genome_file in zip(genome_list, genome_file_fn_list):\n",
    "    faidx_genome(genome_file, genome)\n"
   ]
  },
  {
   "cell_type": "code",
   "execution_count": 72,
   "metadata": {
    "collapsed": false
   },
   "outputs": [],
   "source": [
    "#generate some window_files\n",
    "#window_dict_1k2s = {} #the key is the genome name\n",
    "window_dict_1k = {} #the key is the genome name\n",
    "for genome_file in genome_file_fn_list:\n",
    "    #generate the name for the window outfile\n",
    "    key = os.path.basename(genome_file).split('.')[0]\n",
    "    #out_name = os.path.join(OUT_PATH, os.path.basename(genome_file.replace('.genome_file', '.window_1k2s.bed')))\n",
    "    #window_dict_1k2s[key] = out_name\n",
    "    #now generate the window file and save out\n",
    "    #BedTool().window_maker(g=genome_file, w=1000, s=200).saveas(out_name)\n",
    "    #same thing for different window 1k without slide\n",
    "    out_name = os.path.join(OUT_PATH, os.path.basename(genome_file.replace('.genome_file', '.window_1k.bed')))\n",
    "    window_dict_1k[key] = out_name\n",
    "    BedTool().window_maker(g=genome_file, w=1000).saveas(out_name)"
   ]
  },
  {
   "cell_type": "code",
   "execution_count": 73,
   "metadata": {
    "collapsed": false
   },
   "outputs": [
    {
     "data": {
      "text/plain": [
       "{'210V2AP2_446ctg': '/panfs/roc/groups/7/figueroa/shared/Analysis/ug99_Jan/karyon_study/analysis/COV/210V2AP2_446ctg.window_1k.bed',\n",
       " '98V2AP2_333ctg': '/panfs/roc/groups/7/figueroa/shared/Analysis/ug99_Jan/karyon_study/analysis/COV/98V2AP2_333ctg.window_1k.bed',\n",
       " 'Ug99V2AP2_537ctg': '/panfs/roc/groups/7/figueroa/shared/Analysis/ug99_Jan/karyon_study/analysis/COV/Ug99V2AP2_537ctg.window_1k.bed'}"
      ]
     },
     "execution_count": 73,
     "metadata": {},
     "output_type": "execute_result"
    }
   ],
   "source": [
    "window_dict_1k"
   ]
  },
  {
   "cell_type": "code",
   "execution_count": 74,
   "metadata": {
    "collapsed": false
   },
   "outputs": [
    {
     "data": {
      "text/plain": [
       "['/panfs/roc/groups/7/figueroa/shared/Analysis/ug99_Jan/karyon_study/analysis/COV/210V2AP2_446ctg.bwamem.210_WTN_clean_250PE_36M.window_1k.samcov',\n",
       " '/panfs/roc/groups/7/figueroa/shared/Analysis/ug99_Jan/karyon_study/analysis/COV/210V2AP2_446ctg.bwamem.98_WT_Clean_250PE_52M.window_1k.samcov',\n",
       " '/panfs/roc/groups/7/figueroa/shared/Analysis/ug99_Jan/karyon_study/analysis/COV/210V2AP2_446ctg.bwamem.Pgt_99_TTKSK_clean_150PE_43M.window_1k.samcov',\n",
       " '/panfs/roc/groups/7/figueroa/shared/Analysis/ug99_Jan/karyon_study/analysis/COV/98V2AP2_333ctg.bwamem.210_WTN_clean_250PE_36M.window_1k.samcov',\n",
       " '/panfs/roc/groups/7/figueroa/shared/Analysis/ug99_Jan/karyon_study/analysis/COV/98V2AP2_333ctg.bwamem.98_WT_Clean_250PE_52M.window_1k.samcov',\n",
       " '/panfs/roc/groups/7/figueroa/shared/Analysis/ug99_Jan/karyon_study/analysis/COV/98V2AP2_333ctg.bwamem.Pgt_99_TTKSK_clean_150PE_43M.window_1k.samcov',\n",
       " '/panfs/roc/groups/7/figueroa/shared/Analysis/ug99_Jan/karyon_study/analysis/COV/Ug99V2AP2_537ctg.bwamem.210_WTN_clean_250PE_36M.window_1k.samcov',\n",
       " '/panfs/roc/groups/7/figueroa/shared/Analysis/ug99_Jan/karyon_study/analysis/COV/Ug99V2AP2_537ctg.bwamem.98_WT_Clean_250PE_52M.window_1k.samcov',\n",
       " '/panfs/roc/groups/7/figueroa/shared/Analysis/ug99_Jan/karyon_study/analysis/COV/Ug99V2AP2_537ctg.bwamem.Pgt_99_TTKSK_clean_150PE_43M.window_1k.samcov']"
      ]
     },
     "execution_count": 74,
     "metadata": {},
     "output_type": "execute_result"
    }
   ],
   "source": [
    "samcov_1k_file_list"
   ]
  },
  {
   "cell_type": "code",
   "execution_count": 75,
   "metadata": {
    "collapsed": false
   },
   "outputs": [],
   "source": [
    "#generate the file names of the bedfiles\n",
    "#bed_1k2s_file_list = [window_dict_1k2s[os.path.basename(x).split('.')[0]] for x in samcov_1k2s_file_list ]\n",
    "bed_1k_file_list = [window_dict_1k[os.path.basename(x).split('.')[0]] for x in samcov_1k_file_list ]"
   ]
  },
  {
   "cell_type": "code",
   "execution_count": 83,
   "metadata": {
    "collapsed": false
   },
   "outputs": [
    {
     "name": "stdout",
     "output_type": "stream",
     "text": [
      "in_file_line_number: 177238\n",
      "target chunk_size: 22154\n",
      "\n",
      "Runnning now!\n",
      "\n",
      "Runnning now!\n",
      "\n",
      "Runnning now!\n",
      "\n",
      "Runnning now!\n",
      "\n",
      "Runnning now!\n",
      "\n",
      "\n",
      "samtools bedcov /panfs/roc/groups/7/figueroa/shared/Analysis/ug99_Jan/karyon_study/analysis/COV/tmp/210V2AP2_446ctg.window_1k.bed_0 /panfs/roc/groups/7/figueroa/shared/Analysis/ug99_Jan/karyon_study/analysis/mapped_reads/after_BP/210V2AP2_446ctg.bwamem.210_WTN_clean_250PE_36M.bam > /panfs/roc/groups/7/figueroa/shared/Analysis/ug99_Jan/karyon_study/analysis/COV/tmp/210V2AP2_446ctg.bwamem.210_WTN_clean_250PE_36M.window_1k.samcov_0\n",
      "\n",
      "Runnning now!\n",
      "\n",
      "samtools bedcov /panfs/roc/groups/7/figueroa/shared/Analysis/ug99_Jan/karyon_study/analysis/COV/tmp/210V2AP2_446ctg.window_1k.bed_1 /panfs/roc/groups/7/figueroa/shared/Analysis/ug99_Jan/karyon_study/analysis/mapped_reads/after_BP/210V2AP2_446ctg.bwamem.210_WTN_clean_250PE_36M.bam > /panfs/roc/groups/7/figueroa/shared/Analysis/ug99_Jan/karyon_study/analysis/COV/tmp/210V2AP2_446ctg.bwamem.210_WTN_clean_250PE_36M.window_1k.samcov_1\n",
      "\n",
      "Runnning now!\n",
      "\n",
      "\n",
      "samtools bedcov /panfs/roc/groups/7/figueroa/shared/Analysis/ug99_Jan/karyon_study/analysis/COV/tmp/210V2AP2_446ctg.window_1k.bed_6 /panfs/roc/groups/7/figueroa/shared/Analysis/ug99_Jan/karyon_study/analysis/mapped_reads/after_BP/210V2AP2_446ctg.bwamem.210_WTN_clean_250PE_36M.bam > /panfs/roc/groups/7/figueroa/shared/Analysis/ug99_Jan/karyon_study/analysis/COV/tmp/210V2AP2_446ctg.bwamem.210_WTN_clean_250PE_36M.window_1k.samcov_6\n",
      "samtools bedcov /panfs/roc/groups/7/figueroa/shared/Analysis/ug99_Jan/karyon_study/analysis/COV/tmp/210V2AP2_446ctg.window_1k.bed_5 /panfs/roc/groups/7/figueroa/shared/Analysis/ug99_Jan/karyon_study/analysis/mapped_reads/after_BP/210V2AP2_446ctg.bwamem.210_WTN_clean_250PE_36M.bam > /panfs/roc/groups/7/figueroa/shared/Analysis/ug99_Jan/karyon_study/analysis/COV/tmp/210V2AP2_446ctg.bwamem.210_WTN_clean_250PE_36M.window_1k.samcov_5\n",
      "\n",
      "Runnning now!\n",
      "\n",
      "Runnning now!\n",
      "\n",
      "\n",
      "\n",
      "samtools bedcov /panfs/roc/groups/7/figueroa/shared/Analysis/ug99_Jan/karyon_study/analysis/COV/tmp/210V2AP2_446ctg.window_1k.bed_3 /panfs/roc/groups/7/figueroa/shared/Analysis/ug99_Jan/karyon_study/analysis/mapped_reads/after_BP/210V2AP2_446ctg.bwamem.210_WTN_clean_250PE_36M.bam > /panfs/roc/groups/7/figueroa/shared/Analysis/ug99_Jan/karyon_study/analysis/COV/tmp/210V2AP2_446ctg.bwamem.210_WTN_clean_250PE_36M.window_1k.samcov_3\n",
      "\n",
      "samtools bedcov /panfs/roc/groups/7/figueroa/shared/Analysis/ug99_Jan/karyon_study/analysis/COV/tmp/210V2AP2_446ctg.window_1k.bed_4 /panfs/roc/groups/7/figueroa/shared/Analysis/ug99_Jan/karyon_study/analysis/mapped_reads/after_BP/210V2AP2_446ctg.bwamem.210_WTN_clean_250PE_36M.bam > /panfs/roc/groups/7/figueroa/shared/Analysis/ug99_Jan/karyon_study/analysis/COV/tmp/210V2AP2_446ctg.bwamem.210_WTN_clean_250PE_36M.window_1k.samcov_4\n",
      "samtools bedcov /panfs/roc/groups/7/figueroa/shared/Analysis/ug99_Jan/karyon_study/analysis/COV/tmp/210V2AP2_446ctg.window_1k.bed_8 /panfs/roc/groups/7/figueroa/shared/Analysis/ug99_Jan/karyon_study/analysis/mapped_reads/after_BP/210V2AP2_446ctg.bwamem.210_WTN_clean_250PE_36M.bam > /panfs/roc/groups/7/figueroa/shared/Analysis/ug99_Jan/karyon_study/analysis/COV/tmp/210V2AP2_446ctg.bwamem.210_WTN_clean_250PE_36M.window_1k.samcov_8\n",
      "samtools bedcov /panfs/roc/groups/7/figueroa/shared/Analysis/ug99_Jan/karyon_study/analysis/COV/tmp/210V2AP2_446ctg.window_1k.bed_2 /panfs/roc/groups/7/figueroa/shared/Analysis/ug99_Jan/karyon_study/analysis/mapped_reads/after_BP/210V2AP2_446ctg.bwamem.210_WTN_clean_250PE_36M.bam > /panfs/roc/groups/7/figueroa/shared/Analysis/ug99_Jan/karyon_study/analysis/COV/tmp/210V2AP2_446ctg.bwamem.210_WTN_clean_250PE_36M.window_1k.samcov_2\n",
      "samtools bedcov /panfs/roc/groups/7/figueroa/shared/Analysis/ug99_Jan/karyon_study/analysis/COV/tmp/210V2AP2_446ctg.window_1k.bed_7 /panfs/roc/groups/7/figueroa/shared/Analysis/ug99_Jan/karyon_study/analysis/mapped_reads/after_BP/210V2AP2_446ctg.bwamem.210_WTN_clean_250PE_36M.bam > /panfs/roc/groups/7/figueroa/shared/Analysis/ug99_Jan/karyon_study/analysis/COV/tmp/210V2AP2_446ctg.bwamem.210_WTN_clean_250PE_36M.window_1k.samcov_7\n",
      "\n",
      "Done\n",
      "With ouput:\n",
      "b'[W::hts_idx_load2] The index file is older than the data file: /panfs/roc/groups/7/figueroa/shared/Analysis/ug99_Jan/karyon_study/analysis/mapped_reads/after_BP/210V2AP2_446ctg.bwamem.210_WTN_clean_250PE_36M.bam.bai\\n'\n",
      "b'[W::hts_idx_load2] The index file is older than the data file: /panfs/roc/groups/7/figueroa/shared/Analysis/ug99_Jan/karyon_study/analysis/mapped_reads/after_BP/210V2AP2_446ctg.bwamem.210_WTN_clean_250PE_36M.bam.bai\\n'\n",
      "\n",
      "Done\n",
      "With ouput:\n",
      "b'[W::hts_idx_load2] The index file is older than the data file: /panfs/roc/groups/7/figueroa/shared/Analysis/ug99_Jan/karyon_study/analysis/mapped_reads/after_BP/210V2AP2_446ctg.bwamem.210_WTN_clean_250PE_36M.bam.bai\\n'\n",
      "b'[W::hts_idx_load2] The index file is older than the data file: /panfs/roc/groups/7/figueroa/shared/Analysis/ug99_Jan/karyon_study/analysis/mapped_reads/after_BP/210V2AP2_446ctg.bwamem.210_WTN_clean_250PE_36M.bam.bai\\n'\n",
      "\n",
      "Done\n",
      "With ouput:\n",
      "b'[W::hts_idx_load2] The index file is older than the data file: /panfs/roc/groups/7/figueroa/shared/Analysis/ug99_Jan/karyon_study/analysis/mapped_reads/after_BP/210V2AP2_446ctg.bwamem.210_WTN_clean_250PE_36M.bam.bai\\n'\n",
      "b'[W::hts_idx_load2] The index file is older than the data file: /panfs/roc/groups/7/figueroa/shared/Analysis/ug99_Jan/karyon_study/analysis/mapped_reads/after_BP/210V2AP2_446ctg.bwamem.210_WTN_clean_250PE_36M.bam.bai\\n'\n",
      "\n",
      "Done\n",
      "With ouput:\n",
      "b'[W::hts_idx_load2] The index file is older than the data file: /panfs/roc/groups/7/figueroa/shared/Analysis/ug99_Jan/karyon_study/analysis/mapped_reads/after_BP/210V2AP2_446ctg.bwamem.210_WTN_clean_250PE_36M.bam.bai\\n'\n",
      "b'[W::hts_idx_load2] The index file is older than the data file: /panfs/roc/groups/7/figueroa/shared/Analysis/ug99_Jan/karyon_study/analysis/mapped_reads/after_BP/210V2AP2_446ctg.bwamem.210_WTN_clean_250PE_36M.bam.bai\\n'\n",
      "\n",
      "Done\n",
      "With ouput:\n",
      "b'[W::hts_idx_load2] The index file is older than the data file: /panfs/roc/groups/7/figueroa/shared/Analysis/ug99_Jan/karyon_study/analysis/mapped_reads/after_BP/210V2AP2_446ctg.bwamem.210_WTN_clean_250PE_36M.bam.bai\\n'\n",
      "b'[W::hts_idx_load2] The index file is older than the data file: /panfs/roc/groups/7/figueroa/shared/Analysis/ug99_Jan/karyon_study/analysis/mapped_reads/after_BP/210V2AP2_446ctg.bwamem.210_WTN_clean_250PE_36M.bam.bai\\n'\n",
      "\n",
      "Done\n",
      "With ouput:\n",
      "b'[W::hts_idx_load2] The index file is older than the data file: /panfs/roc/groups/7/figueroa/shared/Analysis/ug99_Jan/karyon_study/analysis/mapped_reads/after_BP/210V2AP2_446ctg.bwamem.210_WTN_clean_250PE_36M.bam.bai\\n'\n",
      "b'[W::hts_idx_load2] The index file is older than the data file: /panfs/roc/groups/7/figueroa/shared/Analysis/ug99_Jan/karyon_study/analysis/mapped_reads/after_BP/210V2AP2_446ctg.bwamem.210_WTN_clean_250PE_36M.bam.bai\\n'\n",
      "\n",
      "Done\n",
      "With ouput:\n",
      "b'[W::hts_idx_load2] The index file is older than the data file: /panfs/roc/groups/7/figueroa/shared/Analysis/ug99_Jan/karyon_study/analysis/mapped_reads/after_BP/210V2AP2_446ctg.bwamem.210_WTN_clean_250PE_36M.bam.bai\\n'\n",
      "b'[W::hts_idx_load2] The index file is older than the data file: /panfs/roc/groups/7/figueroa/shared/Analysis/ug99_Jan/karyon_study/analysis/mapped_reads/after_BP/210V2AP2_446ctg.bwamem.210_WTN_clean_250PE_36M.bam.bai\\n'\n",
      "\n",
      "Done\n",
      "With ouput:\n",
      "b'[W::hts_idx_load2] The index file is older than the data file: /panfs/roc/groups/7/figueroa/shared/Analysis/ug99_Jan/karyon_study/analysis/mapped_reads/after_BP/210V2AP2_446ctg.bwamem.210_WTN_clean_250PE_36M.bam.bai\\n'\n",
      "b'[W::hts_idx_load2] The index file is older than the data file: /panfs/roc/groups/7/figueroa/shared/Analysis/ug99_Jan/karyon_study/analysis/mapped_reads/after_BP/210V2AP2_446ctg.bwamem.210_WTN_clean_250PE_36M.bam.bai\\n'\n",
      "\n",
      "Done\n",
      "With ouput:\n",
      "b'[W::hts_idx_load2] The index file is older than the data file: /panfs/roc/groups/7/figueroa/shared/Analysis/ug99_Jan/karyon_study/analysis/mapped_reads/after_BP/210V2AP2_446ctg.bwamem.210_WTN_clean_250PE_36M.bam.bai\\n'\n",
      "b'[W::hts_idx_load2] The index file is older than the data file: /panfs/roc/groups/7/figueroa/shared/Analysis/ug99_Jan/karyon_study/analysis/mapped_reads/after_BP/210V2AP2_446ctg.bwamem.210_WTN_clean_250PE_36M.bam.bai\\n'\n"
     ]
    },
    {
     "ename": "NameError",
     "evalue": "name 'combine_samcov_files' is not defined",
     "output_type": "error",
     "traceback": [
      "\u001b[0;31m---------------------------------------------------------------------------\u001b[0m",
      "\u001b[0;31mNameError\u001b[0m                                 Traceback (most recent call last)",
      "\u001b[0;32m<ipython-input-83-bd1e9ce20aef>\u001b[0m in \u001b[0;36m<module>\u001b[0;34m\u001b[0m\n\u001b[1;32m      1\u001b[0m \u001b[0;31m#now run the window coverage analysis\u001b[0m\u001b[0;34m\u001b[0m\u001b[0;34m\u001b[0m\u001b[0m\n\u001b[1;32m      2\u001b[0m \u001b[0;32mfor\u001b[0m \u001b[0mbed\u001b[0m\u001b[0;34m,\u001b[0m \u001b[0mbam\u001b[0m\u001b[0;34m,\u001b[0m \u001b[0msamcov\u001b[0m \u001b[0;32min\u001b[0m \u001b[0mzip\u001b[0m\u001b[0;34m(\u001b[0m\u001b[0mbed_1k_file_list\u001b[0m\u001b[0;34m,\u001b[0m \u001b[0mbam_file_list\u001b[0m\u001b[0;34m,\u001b[0m \u001b[0msamcov_1k_file_list\u001b[0m\u001b[0;34m)\u001b[0m\u001b[0;34m:\u001b[0m\u001b[0;34m\u001b[0m\u001b[0m\n\u001b[0;32m----> 3\u001b[0;31m     \u001b[0mrun_sam_bedcov\u001b[0m\u001b[0;34m(\u001b[0m\u001b[0mbed\u001b[0m\u001b[0;34m,\u001b[0m \u001b[0mbam\u001b[0m\u001b[0;34m,\u001b[0m \u001b[0msamcov\u001b[0m\u001b[0;34m,\u001b[0m \u001b[0mtmp_path\u001b[0m\u001b[0;34m=\u001b[0m\u001b[0mTMP_PATH\u001b[0m\u001b[0;34m,\u001b[0m \u001b[0mparallel\u001b[0m\u001b[0;34m=\u001b[0m\u001b[0mthreads\u001b[0m\u001b[0;34m)\u001b[0m\u001b[0;34m\u001b[0m\u001b[0m\n\u001b[0m",
      "\u001b[0;32m<ipython-input-82-42a093b00162>\u001b[0m in \u001b[0;36mrun_sam_bedcov\u001b[0;34m(bed_fn, bam_fn, samcov_fn, tmp_path, parallel)\u001b[0m\n\u001b[1;32m     47\u001b[0m         \u001b[0mn_threads\u001b[0m \u001b[0;34m=\u001b[0m \u001b[0mlen\u001b[0m\u001b[0;34m(\u001b[0m\u001b[0msplit_bed_files\u001b[0m\u001b[0;34m)\u001b[0m\u001b[0;34m\u001b[0m\u001b[0m\n\u001b[1;32m     48\u001b[0m         \u001b[0mParallel\u001b[0m\u001b[0;34m(\u001b[0m\u001b[0mn_jobs\u001b[0m\u001b[0;34m=\u001b[0m\u001b[0mn_threads\u001b[0m\u001b[0;34m)\u001b[0m\u001b[0;34m(\u001b[0m\u001b[0mdelayed\u001b[0m\u001b[0;34m(\u001b[0m\u001b[0mrun_sam_bedcov\u001b[0m\u001b[0;34m)\u001b[0m\u001b[0;34m(\u001b[0m\u001b[0mbed\u001b[0m\u001b[0;34m,\u001b[0m \u001b[0mbam\u001b[0m\u001b[0;34m,\u001b[0m \u001b[0msam\u001b[0m\u001b[0;34m,\u001b[0m \u001b[0mtmp_path\u001b[0m\u001b[0;34m)\u001b[0m \u001b[0;32mfor\u001b[0m \u001b[0mbed\u001b[0m\u001b[0;34m,\u001b[0m \u001b[0mbam\u001b[0m\u001b[0;34m,\u001b[0m \u001b[0msam\u001b[0m \u001b[0;32min\u001b[0m \u001b[0mzip\u001b[0m\u001b[0;34m(\u001b[0m\u001b[0msplit_bed_files\u001b[0m\u001b[0;34m,\u001b[0m \u001b[0mbam_files\u001b[0m\u001b[0;34m,\u001b[0m \u001b[0msplit_samcov_files\u001b[0m\u001b[0;34m)\u001b[0m\u001b[0;34m)\u001b[0m\u001b[0;34m\u001b[0m\u001b[0m\n\u001b[0;32m---> 49\u001b[0;31m         \u001b[0mcombine_samcov_files\u001b[0m\u001b[0;34m(\u001b[0m\u001b[0msplit_samcov_files\u001b[0m\u001b[0;34m)\u001b[0m\u001b[0;34m\u001b[0m\u001b[0m\n\u001b[0m\u001b[1;32m     50\u001b[0m         \u001b[0mremove_files\u001b[0m\u001b[0;34m(\u001b[0m\u001b[0msplit_samcov_files\u001b[0m\u001b[0;34m)\u001b[0m\u001b[0;34m\u001b[0m\u001b[0m\n\u001b[1;32m     51\u001b[0m         \u001b[0mremove_files\u001b[0m\u001b[0;34m(\u001b[0m\u001b[0msplit_bed_files\u001b[0m\u001b[0;34m)\u001b[0m\u001b[0;34m\u001b[0m\u001b[0m\n",
      "\u001b[0;31mNameError\u001b[0m: name 'combine_samcov_files' is not defined"
     ]
    }
   ],
   "source": [
    "#now run the window coverage analysis\n",
    "for bed, bam, samcov in zip(bed_1k_file_list, bam_file_list, samcov_1k_file_list):\n",
    "    run_sam_bedcov(bed, bam, samcov, tmp_path=TMP_PATH, parallel=threads)"
   ]
  },
  {
   "cell_type": "code",
   "execution_count": 10,
   "metadata": {
    "collapsed": true
   },
   "outputs": [],
   "source": [
    "columns_names = ['contig', 'start', 'stop' , 'cov']"
   ]
  },
  {
   "cell_type": "code",
   "execution_count": 11,
   "metadata": {
    "collapsed": false
   },
   "outputs": [
    {
     "data": {
      "text/plain": [
       "['/panfs/roc/groups/7/figueroa/shared/Analysis/ug99_Jan/karyon_study/analysis/COV/samcov/after_BP/210V2AP2_446ctg.bwamem.210_WTN_clean_250PE_36M.window_1k.samcov',\n",
       " '/panfs/roc/groups/7/figueroa/shared/Analysis/ug99_Jan/karyon_study/analysis/COV/samcov/after_BP/210V2AP2_446ctg.bwamem.98_WT_Clean_250PE_52M.window_1k.samcov',\n",
       " '/panfs/roc/groups/7/figueroa/shared/Analysis/ug99_Jan/karyon_study/analysis/COV/samcov/after_BP/210V2AP2_446ctg.bwamem.Pgt_99_TTKSK_clean_150PE_43M.window_1k.samcov',\n",
       " '/panfs/roc/groups/7/figueroa/shared/Analysis/ug99_Jan/karyon_study/analysis/COV/samcov/after_BP/98V2AP2_333ctg.bwamem.210_WTN_clean_250PE_36M.window_1k.samcov',\n",
       " '/panfs/roc/groups/7/figueroa/shared/Analysis/ug99_Jan/karyon_study/analysis/COV/samcov/after_BP/98V2AP2_333ctg.bwamem.98_WT_Clean_250PE_52M.window_1k.samcov',\n",
       " '/panfs/roc/groups/7/figueroa/shared/Analysis/ug99_Jan/karyon_study/analysis/COV/samcov/after_BP/98V2AP2_333ctg.bwamem.Pgt_99_TTKSK_clean_150PE_43M.window_1k.samcov',\n",
       " '/panfs/roc/groups/7/figueroa/shared/Analysis/ug99_Jan/karyon_study/analysis/COV/samcov/after_BP/Ug99V2AP2_537ctg.bwamem.210_WTN_clean_250PE_36M.window_1k.samcov',\n",
       " '/panfs/roc/groups/7/figueroa/shared/Analysis/ug99_Jan/karyon_study/analysis/COV/samcov/after_BP/Ug99V2AP2_537ctg.bwamem.98_WT_Clean_250PE_52M.window_1k.samcov',\n",
       " '/panfs/roc/groups/7/figueroa/shared/Analysis/ug99_Jan/karyon_study/analysis/COV/samcov/after_BP/Ug99V2AP2_537ctg.bwamem.Pgt_99_TTKSK_clean_150PE_43M.window_1k.samcov']"
      ]
     },
     "execution_count": 11,
     "metadata": {},
     "output_type": "execute_result"
    }
   ],
   "source": [
    "# sort the samcov file list for easier query of files\n",
    "samcov_1k_file_list.sort()\n",
    "samcov_1k_file_list"
   ]
  },
  {
   "cell_type": "code",
   "execution_count": 12,
   "metadata": {
    "collapsed": false
   },
   "outputs": [
    {
     "data": {
      "text/plain": [
       "'/panfs/roc/groups/7/figueroa/shared/Analysis/ug99_Jan/karyon_study/analysis/COV/samcov/after_BP/Ug99V2AP2_537ctg.bwamem.Pgt_99_TTKSK_clean_150PE_43M.window_1k.samcov'"
      ]
     },
     "execution_count": 12,
     "metadata": {},
     "output_type": "execute_result"
    }
   ],
   "source": [
    "samcov_1k_file_list[-1]"
   ]
  },
  {
   "cell_type": "code",
   "execution_count": 13,
   "metadata": {
    "collapsed": true
   },
   "outputs": [],
   "source": [
    "PgtUg99ref_rn_with_Ug99reads_df = pd.read_csv(samcov_1k_file_list[-1],sep='\\t', header =None, names=columns_names)"
   ]
  },
  {
   "cell_type": "code",
   "execution_count": 14,
   "metadata": {
    "collapsed": false
   },
   "outputs": [
    {
     "name": "stdout",
     "output_type": "stream",
     "text": [
      "/panfs/roc/groups/7/figueroa/shared/Analysis/ug99_Jan/karyon_study/analysis/COV/samcov/after_BP/Ug99V2AP2_537ctg.bwamem.Pgt_99_TTKSK_clean_150PE_43M.window_1k.samcov\n"
     ]
    }
   ],
   "source": [
    "# ug99 reads to ug99 assembly: Ug99V2AP2_renamed.bwamem.Pgt_99_TTKSK_clean_150PE_43M.window_1k.samcov- 1k\n",
    "PgtUg99ref_rn_with_Ug99reads_df['cov_per_base'] = \\\n",
    "PgtUg99ref_rn_with_Ug99reads_df['cov']/(PgtUg99ref_rn_with_Ug99reads_df['stop']- PgtUg99ref_rn_with_Ug99reads_df['start'])\n",
    "print(samcov_1k_file_list[-1])"
   ]
  },
  {
   "cell_type": "code",
   "execution_count": 15,
   "metadata": {
    "collapsed": false
   },
   "outputs": [
    {
     "data": {
      "text/plain": [
       "31.9620062435209"
      ]
     },
     "execution_count": 15,
     "metadata": {},
     "output_type": "execute_result"
    }
   ],
   "source": [
    "# mean coverage\n",
    "PgtUg99ref_rn_with_Ug99reads_df['cov_per_base'].mean()"
   ]
  },
  {
   "cell_type": "code",
   "execution_count": 16,
   "metadata": {
    "collapsed": true
   },
   "outputs": [],
   "source": [
    "#naming is similar to my mapping naming where reference is first and reads come second\n",
    "# map 210 reads to ug99\n",
    "PgtUg99ref_rn_with_210reads_df = pd.read_csv(samcov_1k_file_list[-3],sep='\\t', header =None, names=columns_names)\n",
    "PgtUg99ref_rn_with_210reads_df['cov_per_base'] = \\\n",
    "PgtUg99ref_rn_with_210reads_df['cov']/(PgtUg99ref_rn_with_210reads_df['stop']- PgtUg99ref_rn_with_210reads_df['start'])\n"
   ]
  },
  {
   "cell_type": "code",
   "execution_count": 17,
   "metadata": {
    "collapsed": true
   },
   "outputs": [],
   "source": [
    "##Now read in the karyon assignment\n",
    "#read ug99 karyon assignment data - the master excel worksheet\n",
    "df_karyon_assigment = pd.read_csv(KAYRON_ASSIGN_Ug99)"
   ]
  },
  {
   "cell_type": "code",
   "execution_count": 18,
   "metadata": {
    "collapsed": false
   },
   "outputs": [
    {
     "data": {
      "text/html": [
       "<div>\n",
       "<style scoped>\n",
       "    .dataframe tbody tr th:only-of-type {\n",
       "        vertical-align: middle;\n",
       "    }\n",
       "\n",
       "    .dataframe tbody tr th {\n",
       "        vertical-align: top;\n",
       "    }\n",
       "\n",
       "    .dataframe thead th {\n",
       "        text-align: right;\n",
       "    }\n",
       "</style>\n",
       "<table border=\"1\" class=\"dataframe\">\n",
       "  <thead>\n",
       "    <tr style=\"text-align: right;\">\n",
       "      <th></th>\n",
       "      <th>contig_id</th>\n",
       "      <th>chr</th>\n",
       "      <th>Name2</th>\n",
       "      <th>chrlen.x</th>\n",
       "      <th>BinAsign</th>\n",
       "      <th>telomere_pos</th>\n",
       "      <th>cov_ug99v2</th>\n",
       "      <th>cov_Leftover_ug99v2</th>\n",
       "      <th>karyon_assign</th>\n",
       "    </tr>\n",
       "  </thead>\n",
       "  <tbody>\n",
       "    <tr>\n",
       "      <th>532</th>\n",
       "      <td>Ug99V2_tig00016875_02</td>\n",
       "      <td>tig00016875_pilon_pilon</td>\n",
       "      <td>tig00016875_02</td>\n",
       "      <td>197440</td>\n",
       "      <td>Bin46</td>\n",
       "      <td>NaN</td>\n",
       "      <td>NaN</td>\n",
       "      <td>NaN</td>\n",
       "      <td>A</td>\n",
       "    </tr>\n",
       "    <tr>\n",
       "      <th>533</th>\n",
       "      <td>Ug99V2_tig00000037_01</td>\n",
       "      <td>tig00000037_pilon_pilon</td>\n",
       "      <td>tig00000037_01</td>\n",
       "      <td>244068</td>\n",
       "      <td>Bin49</td>\n",
       "      <td>NaN</td>\n",
       "      <td>NaN</td>\n",
       "      <td>NaN</td>\n",
       "      <td>A</td>\n",
       "    </tr>\n",
       "    <tr>\n",
       "      <th>534</th>\n",
       "      <td>Ug99V2_tig00000037_02</td>\n",
       "      <td>tig00000037_pilon_pilon</td>\n",
       "      <td>tig00000037_02</td>\n",
       "      <td>425610</td>\n",
       "      <td>Bin49</td>\n",
       "      <td>NaN</td>\n",
       "      <td>NaN</td>\n",
       "      <td>NaN</td>\n",
       "      <td>C</td>\n",
       "    </tr>\n",
       "    <tr>\n",
       "      <th>535</th>\n",
       "      <td>Ug99V2_tig00000316_01</td>\n",
       "      <td>tig00000316_pilon_pilon</td>\n",
       "      <td>tig00000316_01</td>\n",
       "      <td>44000</td>\n",
       "      <td>NaN</td>\n",
       "      <td>NaN</td>\n",
       "      <td>NaN</td>\n",
       "      <td>NaN</td>\n",
       "      <td>C</td>\n",
       "    </tr>\n",
       "    <tr>\n",
       "      <th>536</th>\n",
       "      <td>Ug99V2_tig00000316_02</td>\n",
       "      <td>tig00000316_pilon_pilon</td>\n",
       "      <td>tig00000316_02</td>\n",
       "      <td>86949</td>\n",
       "      <td>NaN</td>\n",
       "      <td>NaN</td>\n",
       "      <td>NaN</td>\n",
       "      <td>NaN</td>\n",
       "      <td>A</td>\n",
       "    </tr>\n",
       "  </tbody>\n",
       "</table>\n",
       "</div>"
      ],
      "text/plain": [
       "                 contig_id                      chr           Name2  chrlen.x  \\\n",
       "532  Ug99V2_tig00016875_02  tig00016875_pilon_pilon  tig00016875_02    197440   \n",
       "533  Ug99V2_tig00000037_01  tig00000037_pilon_pilon  tig00000037_01    244068   \n",
       "534  Ug99V2_tig00000037_02  tig00000037_pilon_pilon  tig00000037_02    425610   \n",
       "535  Ug99V2_tig00000316_01  tig00000316_pilon_pilon  tig00000316_01     44000   \n",
       "536  Ug99V2_tig00000316_02  tig00000316_pilon_pilon  tig00000316_02     86949   \n",
       "\n",
       "    BinAsign telomere_pos  cov_ug99v2  cov_Leftover_ug99v2 karyon_assign  \n",
       "532    Bin46          NaN         NaN                  NaN             A  \n",
       "533    Bin49          NaN         NaN                  NaN             A  \n",
       "534    Bin49          NaN         NaN                  NaN             C  \n",
       "535      NaN          NaN         NaN                  NaN             C  \n",
       "536      NaN          NaN         NaN                  NaN             A  "
      ]
     },
     "execution_count": 18,
     "metadata": {},
     "output_type": "execute_result"
    }
   ],
   "source": [
    "df_karyon_assigment.tail()"
   ]
  },
  {
   "cell_type": "code",
   "execution_count": 19,
   "metadata": {
    "collapsed": false
   },
   "outputs": [],
   "source": [
    "Pgt_ug99_karyon_dict = dict(zip(df_karyon_assigment['contig_id'], df_karyon_assigment['karyon_assign']))"
   ]
  },
  {
   "cell_type": "code",
   "execution_count": 20,
   "metadata": {
    "collapsed": false
   },
   "outputs": [
    {
     "data": {
      "text/plain": [
       "'A'"
      ]
     },
     "execution_count": 20,
     "metadata": {},
     "output_type": "execute_result"
    }
   ],
   "source": [
    "Pgt_ug99_karyon_dict[\"Ug99V2_tig00000316_02\"]"
   ]
  },
  {
   "cell_type": "code",
   "execution_count": 21,
   "metadata": {
    "collapsed": false
   },
   "outputs": [
    {
     "data": {
      "text/html": [
       "<div>\n",
       "<style scoped>\n",
       "    .dataframe tbody tr th:only-of-type {\n",
       "        vertical-align: middle;\n",
       "    }\n",
       "\n",
       "    .dataframe tbody tr th {\n",
       "        vertical-align: top;\n",
       "    }\n",
       "\n",
       "    .dataframe thead th {\n",
       "        text-align: right;\n",
       "    }\n",
       "</style>\n",
       "<table border=\"1\" class=\"dataframe\">\n",
       "  <thead>\n",
       "    <tr style=\"text-align: right;\">\n",
       "      <th></th>\n",
       "      <th>contig</th>\n",
       "      <th>start</th>\n",
       "      <th>stop</th>\n",
       "      <th>cov</th>\n",
       "      <th>cov_per_base</th>\n",
       "    </tr>\n",
       "  </thead>\n",
       "  <tbody>\n",
       "    <tr>\n",
       "      <th>176501</th>\n",
       "      <td>Ug99V2_tig00016883</td>\n",
       "      <td>284000</td>\n",
       "      <td>285000</td>\n",
       "      <td>10014</td>\n",
       "      <td>10.014</td>\n",
       "    </tr>\n",
       "    <tr>\n",
       "      <th>176502</th>\n",
       "      <td>Ug99V2_tig00016883</td>\n",
       "      <td>285000</td>\n",
       "      <td>286000</td>\n",
       "      <td>12072</td>\n",
       "      <td>12.072</td>\n",
       "    </tr>\n",
       "    <tr>\n",
       "      <th>176503</th>\n",
       "      <td>Ug99V2_tig00016883</td>\n",
       "      <td>286000</td>\n",
       "      <td>287000</td>\n",
       "      <td>5928</td>\n",
       "      <td>5.928</td>\n",
       "    </tr>\n",
       "    <tr>\n",
       "      <th>176504</th>\n",
       "      <td>Ug99V2_tig00016883</td>\n",
       "      <td>287000</td>\n",
       "      <td>288000</td>\n",
       "      <td>0</td>\n",
       "      <td>0.000</td>\n",
       "    </tr>\n",
       "    <tr>\n",
       "      <th>176505</th>\n",
       "      <td>Ug99V2_tig00016883</td>\n",
       "      <td>288000</td>\n",
       "      <td>288056</td>\n",
       "      <td>0</td>\n",
       "      <td>0.000</td>\n",
       "    </tr>\n",
       "  </tbody>\n",
       "</table>\n",
       "</div>"
      ],
      "text/plain": [
       "                    contig   start    stop    cov  cov_per_base\n",
       "176501  Ug99V2_tig00016883  284000  285000  10014        10.014\n",
       "176502  Ug99V2_tig00016883  285000  286000  12072        12.072\n",
       "176503  Ug99V2_tig00016883  286000  287000   5928         5.928\n",
       "176504  Ug99V2_tig00016883  287000  288000      0         0.000\n",
       "176505  Ug99V2_tig00016883  288000  288056      0         0.000"
      ]
     },
     "execution_count": 21,
     "metadata": {},
     "output_type": "execute_result"
    }
   ],
   "source": [
    "PgtUg99ref_rn_with_Ug99reads_df.tail()"
   ]
  },
  {
   "cell_type": "code",
   "execution_count": 22,
   "metadata": {
    "collapsed": false
   },
   "outputs": [],
   "source": [
    "# append another column containing the karyon assignment info into the samcov.df\n",
    "PgtUg99ref_rn_with_Ug99reads_df['karyon_assign'] = \\\n",
    "PgtUg99ref_rn_with_Ug99reads_df['contig'].apply(lambda x: Pgt_ug99_karyon_dict[x])"
   ]
  },
  {
   "cell_type": "code",
   "execution_count": 23,
   "metadata": {
    "collapsed": false
   },
   "outputs": [
    {
     "data": {
      "text/plain": [
       "'Ug99V2_tig00000005'"
      ]
     },
     "execution_count": 23,
     "metadata": {},
     "output_type": "execute_result"
    }
   ],
   "source": [
    "PgtUg99ref_rn_with_Ug99reads_df['contig'][0]"
   ]
  },
  {
   "cell_type": "code",
   "execution_count": 24,
   "metadata": {
    "collapsed": false
   },
   "outputs": [
    {
     "data": {
      "text/plain": [
       "'C'"
      ]
     },
     "execution_count": 24,
     "metadata": {},
     "output_type": "execute_result"
    }
   ],
   "source": [
    "Pgt_ug99_karyon_dict[PgtUg99ref_rn_with_Ug99reads_df['contig'][0]]"
   ]
  },
  {
   "cell_type": "code",
   "execution_count": 25,
   "metadata": {
    "collapsed": false
   },
   "outputs": [
    {
     "data": {
      "text/html": [
       "<div>\n",
       "<style scoped>\n",
       "    .dataframe tbody tr th:only-of-type {\n",
       "        vertical-align: middle;\n",
       "    }\n",
       "\n",
       "    .dataframe tbody tr th {\n",
       "        vertical-align: top;\n",
       "    }\n",
       "\n",
       "    .dataframe thead th {\n",
       "        text-align: right;\n",
       "    }\n",
       "</style>\n",
       "<table border=\"1\" class=\"dataframe\">\n",
       "  <thead>\n",
       "    <tr style=\"text-align: right;\">\n",
       "      <th></th>\n",
       "      <th>contig</th>\n",
       "      <th>start</th>\n",
       "      <th>stop</th>\n",
       "      <th>cov</th>\n",
       "      <th>cov_per_base</th>\n",
       "      <th>karyon_assign</th>\n",
       "    </tr>\n",
       "  </thead>\n",
       "  <tbody>\n",
       "    <tr>\n",
       "      <th>176501</th>\n",
       "      <td>Ug99V2_tig00016883</td>\n",
       "      <td>284000</td>\n",
       "      <td>285000</td>\n",
       "      <td>10014</td>\n",
       "      <td>10.014</td>\n",
       "      <td>C</td>\n",
       "    </tr>\n",
       "    <tr>\n",
       "      <th>176502</th>\n",
       "      <td>Ug99V2_tig00016883</td>\n",
       "      <td>285000</td>\n",
       "      <td>286000</td>\n",
       "      <td>12072</td>\n",
       "      <td>12.072</td>\n",
       "      <td>C</td>\n",
       "    </tr>\n",
       "    <tr>\n",
       "      <th>176503</th>\n",
       "      <td>Ug99V2_tig00016883</td>\n",
       "      <td>286000</td>\n",
       "      <td>287000</td>\n",
       "      <td>5928</td>\n",
       "      <td>5.928</td>\n",
       "      <td>C</td>\n",
       "    </tr>\n",
       "    <tr>\n",
       "      <th>176504</th>\n",
       "      <td>Ug99V2_tig00016883</td>\n",
       "      <td>287000</td>\n",
       "      <td>288000</td>\n",
       "      <td>0</td>\n",
       "      <td>0.000</td>\n",
       "      <td>C</td>\n",
       "    </tr>\n",
       "    <tr>\n",
       "      <th>176505</th>\n",
       "      <td>Ug99V2_tig00016883</td>\n",
       "      <td>288000</td>\n",
       "      <td>288056</td>\n",
       "      <td>0</td>\n",
       "      <td>0.000</td>\n",
       "      <td>C</td>\n",
       "    </tr>\n",
       "  </tbody>\n",
       "</table>\n",
       "</div>"
      ],
      "text/plain": [
       "                    contig   start    stop    cov  cov_per_base karyon_assign\n",
       "176501  Ug99V2_tig00016883  284000  285000  10014        10.014             C\n",
       "176502  Ug99V2_tig00016883  285000  286000  12072        12.072             C\n",
       "176503  Ug99V2_tig00016883  286000  287000   5928         5.928             C\n",
       "176504  Ug99V2_tig00016883  287000  288000      0         0.000             C\n",
       "176505  Ug99V2_tig00016883  288000  288056      0         0.000             C"
      ]
     },
     "execution_count": 25,
     "metadata": {},
     "output_type": "execute_result"
    }
   ],
   "source": [
    "PgtUg99ref_rn_with_Ug99reads_df.tail()"
   ]
  },
  {
   "cell_type": "code",
   "execution_count": 26,
   "metadata": {
    "collapsed": false
   },
   "outputs": [
    {
     "data": {
      "text/plain": [
       "Int64Index([55818, 55819, 55820, 55821, 55822, 55823, 55824, 55825, 55826,\n",
       "            55827,\n",
       "            ...\n",
       "            55915, 55916, 55917, 55918, 55919, 55920, 55921, 55922, 55923,\n",
       "            55924],\n",
       "           dtype='int64', length=107)"
      ]
     },
     "execution_count": 26,
     "metadata": {},
     "output_type": "execute_result"
    }
   ],
   "source": [
    "#get the mt contig to remove \n",
    "PgtUg99ref_rn_with_Ug99reads_df[PgtUg99ref_rn_with_Ug99reads_df['karyon_assign'] == 'mt'].index"
   ]
  },
  {
   "cell_type": "code",
   "execution_count": 27,
   "metadata": {
    "collapsed": false
   },
   "outputs": [],
   "source": [
    "# remove mt\n",
    "PgtUg99ref_rn_with_Ug99reads_df.drop\\\n",
    "(PgtUg99ref_rn_with_Ug99reads_df[PgtUg99ref_rn_with_Ug99reads_df['karyon_assign'] == 'mt'].index, inplace = True)\n",
    "\n",
    "# remove ?\n",
    "PgtUg99ref_rn_with_Ug99reads_df.drop\\\n",
    "(PgtUg99ref_rn_with_Ug99reads_df[PgtUg99ref_rn_with_Ug99reads_df['karyon_assign'] == '?'].index, inplace = True)"
   ]
  },
  {
   "cell_type": "code",
   "execution_count": 28,
   "metadata": {
    "collapsed": true
   },
   "outputs": [],
   "source": [
    "colors = {'A': '#95d0fc', 'C': '#15b01a'}\n"
   ]
  },
  {
   "cell_type": "code",
   "execution_count": 29,
   "metadata": {
    "collapsed": true
   },
   "outputs": [],
   "source": [
    "# 210 reads to Ug99"
   ]
  },
  {
   "cell_type": "code",
   "execution_count": 30,
   "metadata": {
    "collapsed": false
   },
   "outputs": [],
   "source": [
    "# append another column containing the karyon assignment info into the samcov.df\n",
    "PgtUg99ref_rn_with_210reads_df['karyon_assign'] = \\\n",
    "PgtUg99ref_rn_with_210reads_df['contig'].apply(lambda x: Pgt_ug99_karyon_dict[x])\n",
    "\n",
    "# remove mt\n",
    "PgtUg99ref_rn_with_210reads_df.drop\\\n",
    "(PgtUg99ref_rn_with_210reads_df[PgtUg99ref_rn_with_210reads_df['karyon_assign'] == 'mt'].index, inplace = True)\n",
    "\n",
    "# remove ?\n",
    "PgtUg99ref_rn_with_210reads_df.drop\\\n",
    "(PgtUg99ref_rn_with_210reads_df[PgtUg99ref_rn_with_210reads_df['karyon_assign'] == '?'].index, inplace = True)"
   ]
  },
  {
   "cell_type": "code",
   "execution_count": 31,
   "metadata": {
    "collapsed": true
   },
   "outputs": [],
   "source": [
    "# normalization"
   ]
  },
  {
   "cell_type": "code",
   "execution_count": 32,
   "metadata": {
    "collapsed": true
   },
   "outputs": [],
   "source": [
    "# normalize by the mean of karyon each karyon\n",
    "PgtUg99ref_rn_with_Ug99reads_df['norm_cov_by_mean_of_karyon'] = 0\n",
    "for kayron in PgtUg99ref_rn_with_Ug99reads_df['karyon_assign'].unique():\n",
    "    _index = PgtUg99ref_rn_with_Ug99reads_df[PgtUg99ref_rn_with_Ug99reads_df['karyon_assign'] == kayron].index\n",
    "    PgtUg99ref_rn_with_Ug99reads_df.loc[_index,'norm_cov_by_mean_of_karyon'] = \\\n",
    "    PgtUg99ref_rn_with_Ug99reads_df.loc[_index,'cov_per_base']/PgtUg99ref_rn_with_Ug99reads_df.loc[_index, 'cov_per_base'].mean()\n",
    "    "
   ]
  },
  {
   "cell_type": "code",
   "execution_count": 33,
   "metadata": {
    "collapsed": true
   },
   "outputs": [],
   "source": [
    "PgtUg99ref_rn_with_Ug99reads_df.to_csv(\"PgtUg99ref_rn_with_Ug99reads_df.csv\")"
   ]
  },
  {
   "cell_type": "code",
   "execution_count": 35,
   "metadata": {
    "collapsed": true
   },
   "outputs": [],
   "source": [
    "# normalize by the mean of karyon \n",
    "PgtUg99ref_rn_with_210reads_df['norm_cov_by_mean_of_karyon'] = 0\n",
    "for kayron in PgtUg99ref_rn_with_210reads_df['karyon_assign'].unique():\n",
    "    _index = PgtUg99ref_rn_with_210reads_df[PgtUg99ref_rn_with_210reads_df['karyon_assign'] == kayron].index\n",
    "    PgtUg99ref_rn_with_210reads_df.loc[_index,'norm_cov_by_mean_of_karyon'] = \\\n",
    "    PgtUg99ref_rn_with_210reads_df.loc[_index,'cov_per_base']/PgtUg99ref_rn_with_210reads_df.loc[_index, 'cov_per_base'].mean()\n",
    "    "
   ]
  },
  {
   "cell_type": "code",
   "execution_count": 36,
   "metadata": {
    "collapsed": true
   },
   "outputs": [],
   "source": [
    "PgtUg99ref_rn_with_210reads_df.to_csv(\"PgtUg99ref_rn_with_210reads_df.csv\")"
   ]
  },
  {
   "cell_type": "code",
   "execution_count": 38,
   "metadata": {
    "collapsed": true
   },
   "outputs": [],
   "source": [
    "#210 reads to 210"
   ]
  },
  {
   "cell_type": "code",
   "execution_count": 39,
   "metadata": {
    "collapsed": false
   },
   "outputs": [
    {
     "data": {
      "text/plain": [
       "'/panfs/roc/groups/7/figueroa/shared/Analysis/ug99_Jan/karyon_study/analysis/COV/samcov/after_BP/210V2AP2_446ctg.bwamem.210_WTN_clean_250PE_36M.window_1k.samcov'"
      ]
     },
     "execution_count": 39,
     "metadata": {},
     "output_type": "execute_result"
    }
   ],
   "source": [
    "samcov_1k_file_list[0]"
   ]
  },
  {
   "cell_type": "code",
   "execution_count": 40,
   "metadata": {
    "collapsed": false
   },
   "outputs": [
    {
     "name": "stdout",
     "output_type": "stream",
     "text": [
      "/panfs/roc/groups/7/figueroa/shared/Analysis/ug99_Jan/karyon_study/analysis/COV/samcov/after_BP/210V2AP2_446ctg.bwamem.210_WTN_clean_250PE_36M.window_1k.samcov\n"
     ]
    }
   ],
   "source": [
    "print(samcov_1k_file_list[0])\n",
    "Pgt210ref_rn_with_210reads_df = pd.read_csv(samcov_1k_file_list[0],sep='\\t', header =None, names=columns_names)\n",
    "# 210 reads to 210 assembly: \n",
    "Pgt210ref_rn_with_210reads_df['cov_per_base'] = \\\n",
    "Pgt210ref_rn_with_210reads_df['cov']/(Pgt210ref_rn_with_210reads_df['stop']- Pgt210ref_rn_with_210reads_df['start'])\n"
   ]
  },
  {
   "cell_type": "code",
   "execution_count": 41,
   "metadata": {
    "collapsed": true
   },
   "outputs": [],
   "source": [
    "# map ug99 reads to 210"
   ]
  },
  {
   "cell_type": "code",
   "execution_count": 42,
   "metadata": {
    "collapsed": false
   },
   "outputs": [
    {
     "name": "stdout",
     "output_type": "stream",
     "text": [
      "/panfs/roc/groups/7/figueroa/shared/Analysis/ug99_Jan/karyon_study/analysis/COV/samcov/after_BP/210V2AP2_446ctg.bwamem.Pgt_99_TTKSK_clean_150PE_43M.window_1k.samcov\n"
     ]
    }
   ],
   "source": [
    "#naming is similar to my mapping naming where reference is first and reads come second\n",
    "print(samcov_1k_file_list[2])\n",
    "Pgt210ref_rn_with_ug99reads_df = pd.read_csv(samcov_1k_file_list[2],sep='\\t', header =None, names=columns_names)\n",
    "Pgt210ref_rn_with_ug99reads_df['cov_per_base'] = \\\n",
    "Pgt210ref_rn_with_ug99reads_df['cov']/(Pgt210ref_rn_with_ug99reads_df['stop']- Pgt210ref_rn_with_ug99reads_df['start'])"
   ]
  },
  {
   "cell_type": "code",
   "execution_count": 43,
   "metadata": {
    "collapsed": false
   },
   "outputs": [
    {
     "data": {
      "text/html": [
       "<div>\n",
       "<style scoped>\n",
       "    .dataframe tbody tr th:only-of-type {\n",
       "        vertical-align: middle;\n",
       "    }\n",
       "\n",
       "    .dataframe tbody tr th {\n",
       "        vertical-align: top;\n",
       "    }\n",
       "\n",
       "    .dataframe thead th {\n",
       "        text-align: right;\n",
       "    }\n",
       "</style>\n",
       "<table border=\"1\" class=\"dataframe\">\n",
       "  <thead>\n",
       "    <tr style=\"text-align: right;\">\n",
       "      <th></th>\n",
       "      <th>contig_id</th>\n",
       "      <th>Sample Name_afterABbreak</th>\n",
       "      <th>Sample Name_ori</th>\n",
       "      <th>Bin_assignment</th>\n",
       "      <th>Length</th>\n",
       "      <th>LengthN</th>\n",
       "      <th>Sample Name short</th>\n",
       "      <th>210WTCov_of_mappingTo210V2AP2</th>\n",
       "      <th>210V2mappingCov_of_unmappedReadsFromUg99V2mapping</th>\n",
       "      <th>karyonAssign</th>\n",
       "      <th>LC&lt;1X</th>\n",
       "      <th>notes</th>\n",
       "    </tr>\n",
       "  </thead>\n",
       "  <tbody>\n",
       "    <tr>\n",
       "      <th>0</th>\n",
       "      <td>210V2_tig00000081</td>\n",
       "      <td>tig00000081</td>\n",
       "      <td>tig00000081_arrow_pilon_pilon</td>\n",
       "      <td>210v2aP2_tigs_not binned</td>\n",
       "      <td>45646</td>\n",
       "      <td>45646</td>\n",
       "      <td>tig00000081</td>\n",
       "      <td>6</td>\n",
       "      <td>2</td>\n",
       "      <td>?</td>\n",
       "      <td>Y</td>\n",
       "      <td>repeat</td>\n",
       "    </tr>\n",
       "    <tr>\n",
       "      <th>1</th>\n",
       "      <td>210V2_tig00000154</td>\n",
       "      <td>tig00000154</td>\n",
       "      <td>tig00000154_arrow_pilon_pilon_3Tel_TTAGGG</td>\n",
       "      <td>210v2aP2_tigs_not binned</td>\n",
       "      <td>32135</td>\n",
       "      <td>32135</td>\n",
       "      <td>tig00000154</td>\n",
       "      <td>33</td>\n",
       "      <td>6</td>\n",
       "      <td>?</td>\n",
       "      <td>NaN</td>\n",
       "      <td>NaN</td>\n",
       "    </tr>\n",
       "    <tr>\n",
       "      <th>2</th>\n",
       "      <td>210V2_tig00000231</td>\n",
       "      <td>tig00000231</td>\n",
       "      <td>tig00000231_arrow_pilon_pilon</td>\n",
       "      <td>210v2aP2_tigs_not binned</td>\n",
       "      <td>60236</td>\n",
       "      <td>60236</td>\n",
       "      <td>tig00000231</td>\n",
       "      <td>343</td>\n",
       "      <td>6</td>\n",
       "      <td>?</td>\n",
       "      <td>NaN</td>\n",
       "      <td>repeat</td>\n",
       "    </tr>\n",
       "    <tr>\n",
       "      <th>3</th>\n",
       "      <td>210V2_tig00000235</td>\n",
       "      <td>tig00000235</td>\n",
       "      <td>tig00000235_arrow_pilon_pilon</td>\n",
       "      <td>210v2aP2_tigs_not binned</td>\n",
       "      <td>30751</td>\n",
       "      <td>30751</td>\n",
       "      <td>tig00000235</td>\n",
       "      <td>401</td>\n",
       "      <td>1</td>\n",
       "      <td>?</td>\n",
       "      <td>NaN</td>\n",
       "      <td>repeat</td>\n",
       "    </tr>\n",
       "    <tr>\n",
       "      <th>4</th>\n",
       "      <td>210V2_tig00000243</td>\n",
       "      <td>tig00000243</td>\n",
       "      <td>tig00000243_arrow_pilon_pilon</td>\n",
       "      <td>210v2aP2_tigs_not binned</td>\n",
       "      <td>44669</td>\n",
       "      <td>44669</td>\n",
       "      <td>tig00000243</td>\n",
       "      <td>372</td>\n",
       "      <td>1</td>\n",
       "      <td>?</td>\n",
       "      <td>NaN</td>\n",
       "      <td>repeat</td>\n",
       "    </tr>\n",
       "  </tbody>\n",
       "</table>\n",
       "</div>"
      ],
      "text/plain": [
       "           contig_id Sample Name_afterABbreak  \\\n",
       "0  210V2_tig00000081              tig00000081   \n",
       "1  210V2_tig00000154              tig00000154   \n",
       "2  210V2_tig00000231              tig00000231   \n",
       "3  210V2_tig00000235              tig00000235   \n",
       "4  210V2_tig00000243              tig00000243   \n",
       "\n",
       "                             Sample Name_ori            Bin_assignment  \\\n",
       "0              tig00000081_arrow_pilon_pilon  210v2aP2_tigs_not binned   \n",
       "1  tig00000154_arrow_pilon_pilon_3Tel_TTAGGG  210v2aP2_tigs_not binned   \n",
       "2              tig00000231_arrow_pilon_pilon  210v2aP2_tigs_not binned   \n",
       "3              tig00000235_arrow_pilon_pilon  210v2aP2_tigs_not binned   \n",
       "4              tig00000243_arrow_pilon_pilon  210v2aP2_tigs_not binned   \n",
       "\n",
       "   Length  LengthN Sample Name short  210WTCov_of_mappingTo210V2AP2  \\\n",
       "0   45646    45646       tig00000081                              6   \n",
       "1   32135    32135       tig00000154                             33   \n",
       "2   60236    60236       tig00000231                            343   \n",
       "3   30751    30751       tig00000235                            401   \n",
       "4   44669    44669       tig00000243                            372   \n",
       "\n",
       "   210V2mappingCov_of_unmappedReadsFromUg99V2mapping karyonAssign LC<1X  \\\n",
       "0                                                  2            ?     Y   \n",
       "1                                                  6            ?   NaN   \n",
       "2                                                  6            ?   NaN   \n",
       "3                                                  1            ?   NaN   \n",
       "4                                                  1            ?   NaN   \n",
       "\n",
       "    notes  \n",
       "0  repeat  \n",
       "1     NaN  \n",
       "2  repeat  \n",
       "3  repeat  \n",
       "4  repeat  "
      ]
     },
     "execution_count": 43,
     "metadata": {},
     "output_type": "execute_result"
    }
   ],
   "source": [
    "##Now read in the karyon assignment\n",
    "#read ug99 karyon assignment data - the master excel worksheet\n",
    "df_karyon_assigment_210 = pd.read_csv(KAYRON_ASSIGN_210)\n",
    "df_karyon_assigment_210.head()"
   ]
  },
  {
   "cell_type": "code",
   "execution_count": 44,
   "metadata": {
    "collapsed": true
   },
   "outputs": [],
   "source": [
    "Pgt_210_karyon_dict = dict(zip(df_karyon_assigment_210['contig_id'], df_karyon_assigment_210['karyonAssign']))"
   ]
  },
  {
   "cell_type": "code",
   "execution_count": 45,
   "metadata": {
    "collapsed": true
   },
   "outputs": [],
   "source": [
    "# append another column containing the karyon assignment info into the samcov.df\n",
    "Pgt210ref_rn_with_210reads_df['karyon_assign'] = \\\n",
    "Pgt210ref_rn_with_210reads_df['contig'].apply(lambda x: Pgt_210_karyon_dict[x])"
   ]
  },
  {
   "cell_type": "code",
   "execution_count": 46,
   "metadata": {
    "collapsed": false
   },
   "outputs": [
    {
     "data": {
      "text/html": [
       "<div>\n",
       "<style scoped>\n",
       "    .dataframe tbody tr th:only-of-type {\n",
       "        vertical-align: middle;\n",
       "    }\n",
       "\n",
       "    .dataframe tbody tr th {\n",
       "        vertical-align: top;\n",
       "    }\n",
       "\n",
       "    .dataframe thead th {\n",
       "        text-align: right;\n",
       "    }\n",
       "</style>\n",
       "<table border=\"1\" class=\"dataframe\">\n",
       "  <thead>\n",
       "    <tr style=\"text-align: right;\">\n",
       "      <th></th>\n",
       "      <th>contig</th>\n",
       "      <th>start</th>\n",
       "      <th>stop</th>\n",
       "      <th>cov</th>\n",
       "      <th>cov_per_base</th>\n",
       "      <th>karyon_assign</th>\n",
       "    </tr>\n",
       "  </thead>\n",
       "  <tbody>\n",
       "    <tr>\n",
       "      <th>0</th>\n",
       "      <td>210V2_tig00000006</td>\n",
       "      <td>0</td>\n",
       "      <td>1000</td>\n",
       "      <td>16124</td>\n",
       "      <td>16.124</td>\n",
       "      <td>A</td>\n",
       "    </tr>\n",
       "    <tr>\n",
       "      <th>1</th>\n",
       "      <td>210V2_tig00000006</td>\n",
       "      <td>1000</td>\n",
       "      <td>2000</td>\n",
       "      <td>19194</td>\n",
       "      <td>19.194</td>\n",
       "      <td>A</td>\n",
       "    </tr>\n",
       "    <tr>\n",
       "      <th>2</th>\n",
       "      <td>210V2_tig00000006</td>\n",
       "      <td>2000</td>\n",
       "      <td>3000</td>\n",
       "      <td>61</td>\n",
       "      <td>0.061</td>\n",
       "      <td>A</td>\n",
       "    </tr>\n",
       "    <tr>\n",
       "      <th>3</th>\n",
       "      <td>210V2_tig00000006</td>\n",
       "      <td>3000</td>\n",
       "      <td>4000</td>\n",
       "      <td>1976</td>\n",
       "      <td>1.976</td>\n",
       "      <td>A</td>\n",
       "    </tr>\n",
       "    <tr>\n",
       "      <th>4</th>\n",
       "      <td>210V2_tig00000006</td>\n",
       "      <td>4000</td>\n",
       "      <td>5000</td>\n",
       "      <td>21</td>\n",
       "      <td>0.021</td>\n",
       "      <td>A</td>\n",
       "    </tr>\n",
       "  </tbody>\n",
       "</table>\n",
       "</div>"
      ],
      "text/plain": [
       "              contig  start  stop    cov  cov_per_base karyon_assign\n",
       "0  210V2_tig00000006      0  1000  16124        16.124             A\n",
       "1  210V2_tig00000006   1000  2000  19194        19.194             A\n",
       "2  210V2_tig00000006   2000  3000     61         0.061             A\n",
       "3  210V2_tig00000006   3000  4000   1976         1.976             A\n",
       "4  210V2_tig00000006   4000  5000     21         0.021             A"
      ]
     },
     "execution_count": 46,
     "metadata": {},
     "output_type": "execute_result"
    }
   ],
   "source": [
    "Pgt210ref_rn_with_210reads_df.head()"
   ]
  },
  {
   "cell_type": "code",
   "execution_count": 47,
   "metadata": {
    "collapsed": true
   },
   "outputs": [],
   "source": [
    "# 210 reads to 210 reads\n",
    "# remove mt\n",
    "Pgt210ref_rn_with_210reads_df.drop\\\n",
    "(Pgt210ref_rn_with_210reads_df[Pgt210ref_rn_with_210reads_df['karyon_assign'] == 'mt'].index, inplace = True)\n",
    "# remove ? \n",
    "Pgt210ref_rn_with_210reads_df.drop\\\n",
    "(Pgt210ref_rn_with_210reads_df[Pgt210ref_rn_with_210reads_df['karyon_assign'] == '?'].index, inplace = True)"
   ]
  },
  {
   "cell_type": "code",
   "execution_count": 48,
   "metadata": {
    "collapsed": true
   },
   "outputs": [],
   "source": [
    "# ug99 reads to 210"
   ]
  },
  {
   "cell_type": "code",
   "execution_count": 49,
   "metadata": {
    "collapsed": true
   },
   "outputs": [],
   "source": [
    "# append another column containing the karyon assignment info into the samcov.df\n",
    "Pgt210ref_rn_with_ug99reads_df['karyon_assign'] = \\\n",
    "Pgt210ref_rn_with_ug99reads_df['contig'].apply(lambda x: Pgt_210_karyon_dict[x])\n",
    "\n",
    "# remove mt\n",
    "Pgt210ref_rn_with_ug99reads_df.drop\\\n",
    "(Pgt210ref_rn_with_ug99reads_df[Pgt210ref_rn_with_ug99reads_df['karyon_assign'] == 'mt'].index, inplace = True)\n",
    "# remove ? \n",
    "Pgt210ref_rn_with_ug99reads_df.drop\\\n",
    "(Pgt210ref_rn_with_ug99reads_df[Pgt210ref_rn_with_ug99reads_df['karyon_assign'] == '?'].index, inplace = True)\n"
   ]
  },
  {
   "cell_type": "code",
   "execution_count": 50,
   "metadata": {
    "collapsed": true
   },
   "outputs": [],
   "source": [
    "# normalize by the mean of karyon \n",
    "Pgt210ref_rn_with_210reads_df['norm_cov_by_mean_of_karyon'] = 0\n",
    "for kayron in Pgt210ref_rn_with_210reads_df['karyon_assign'].unique():\n",
    "    _index = Pgt210ref_rn_with_210reads_df[Pgt210ref_rn_with_210reads_df['karyon_assign'] == kayron].index\n",
    "    Pgt210ref_rn_with_210reads_df.loc[_index,'norm_cov_by_mean_of_karyon'] = \\\n",
    "    Pgt210ref_rn_with_210reads_df.loc[_index,'cov_per_base']/Pgt210ref_rn_with_210reads_df.loc[_index, 'cov_per_base'].mean()\n",
    "    "
   ]
  },
  {
   "cell_type": "code",
   "execution_count": 51,
   "metadata": {
    "collapsed": true
   },
   "outputs": [],
   "source": [
    "Pgt210ref_rn_with_210reads_df.to_csv(\"Pgt210ref_rn_with_210reads_df.csv\")"
   ]
  },
  {
   "cell_type": "code",
   "execution_count": 52,
   "metadata": {
    "collapsed": true
   },
   "outputs": [],
   "source": [
    "#colors2 = {'A': '#95d0fc', 'B': '#ffb07c'}\n",
    "colors2_210 = {'A': '#95d0fc', 'B': '#ffb07c'}"
   ]
  },
  {
   "cell_type": "code",
   "execution_count": 54,
   "metadata": {
    "collapsed": true
   },
   "outputs": [],
   "source": [
    "# normalize by the mean of karyon\n",
    "Pgt210ref_rn_with_ug99reads_df['norm_cov_by_mean_of_karyon'] = 0\n",
    "for kayron in Pgt210ref_rn_with_ug99reads_df['karyon_assign'].unique():\n",
    "    _index = Pgt210ref_rn_with_ug99reads_df[Pgt210ref_rn_with_ug99reads_df['karyon_assign'] == kayron].index\n",
    "    Pgt210ref_rn_with_ug99reads_df.loc[_index,'norm_cov_by_mean_of_karyon'] = \\\n",
    "    Pgt210ref_rn_with_ug99reads_df.loc[_index,'cov_per_base']/Pgt210ref_rn_with_ug99reads_df.loc[_index, 'cov_per_base'].mean()"
   ]
  },
  {
   "cell_type": "code",
   "execution_count": 55,
   "metadata": {
    "collapsed": true
   },
   "outputs": [],
   "source": [
    "Pgt210ref_rn_with_ug99reads_df.to_csv(\"Pgt210ref_rn_with_ug99reads_df.csv\")"
   ]
  },
  {
   "cell_type": "code",
   "execution_count": null,
   "metadata": {
    "collapsed": true
   },
   "outputs": [],
   "source": []
  },
  {
   "cell_type": "code",
   "execution_count": null,
   "metadata": {
    "collapsed": true
   },
   "outputs": [],
   "source": []
  }
 ],
 "metadata": {
  "kernelspec": {
   "display_name": "Python (ben_anu)",
   "language": "python",
   "name": "ben_anu"
  },
  "language_info": {
   "codemirror_mode": {
    "name": "ipython",
    "version": 3
   },
   "file_extension": ".py",
   "mimetype": "text/x-python",
   "name": "python",
   "nbconvert_exporter": "python",
   "pygments_lexer": "ipython3",
   "version": "3.6.3"
  }
 },
 "nbformat": 4,
 "nbformat_minor": 0
}
